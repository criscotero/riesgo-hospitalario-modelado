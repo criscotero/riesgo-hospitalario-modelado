{
  "cells": [
    {
      "cell_type": "markdown",
      "metadata": {
        "id": "view-in-github",
        "colab_type": "text"
      },
      "source": [
        "<a href=\"https://colab.research.google.com/github/criscotero/riesgo-hospitalario-modelado/blob/main/Filter_Mutual_Information.ipynb\" target=\"_parent\"><img src=\"https://colab.research.google.com/assets/colab-badge.svg\" alt=\"Open In Colab\"/></a>"
      ]
    },
    {
      "cell_type": "markdown",
      "source": [
        "### **Relevant Data**\n",
        "- Over the waves, the participants mostly remain the same. According to the codebook, only a few new individuals are added in each wave.\n",
        "- Based on the EDA, the data must be filtered using the following criteria:\n",
        "  1. Include only **elderly individuals** (age 50 years or older).\n",
        "  2. Include only **living individuals** (exclude those who passed away during the waves).\n",
        "  3. Include only **in-person surveyed participants** (exclude observations based on reports from family members or relatives).\n",
        "  4. Include only **Respondents** (specific details not visible in this section).\n",
        "\n",
        "- **Additional Notes**:  \n",
        "  - Filtering will only consider the last wave (wave 5) because of the significant time gap between waves, which are non-consecutive (approximately three years apart).  \n",
        "  - **Reason for choosing wave 5**:  \n",
        "    - Elderly health conditions tend to change annually. Considering this, using wave 5 provides the most recent and reliable data for analyzing meaningful health changes.  \n"
      ],
      "metadata": {
        "id": "Sd-V23NAEJpd"
      }
    },
    {
      "cell_type": "markdown",
      "source": [
        "### **Step-by-Step for Exploratory Data Analysis (EDA) and Feature Selection Using Filters**\n",
        "\n",
        "---\n",
        "\n",
        "### **1. Understand the Context and Requirements**\n",
        "1. **Business Objective**: Predict the risk (probability) of hospitalization in older adults.\n",
        "2. **Data Characteristics**:\n",
        "   - Panel data: cross-sectional + time series data.\n",
        "   - Irregular time intervals between waves.\n",
        "   - Focus on the last wave (wave 5) for prediction due to its relevance and recency.\n",
        "   - Target variable is highly imbalanced (1.4/8.6).\n",
        "\n",
        "---\n",
        "\n",
        "### **2. Exploratory Data Analysis (EDA)**\n",
        "\n",
        "#### **A. Data Understanding and Delimitation**\n",
        "1. **Identify the Observation Subjects**:\n",
        "   - Initial subjects: Respondent (R), Spouse (S), Home (H).\n",
        "   - Justification: Work only with `Respondent (R)` as their personal characteristics are directly relevant for prediction.\n",
        "2. **Age Filtering**:\n",
        "   - Filter older adults: retain only individuals aged 50 years or older.\n",
        "3. **Available Variables**:\n",
        "   - Approximately 469 variables after the initial delimitation.\n",
        "\n",
        "#### **B. Missing Data Analysis**\n",
        "1. Calculate the percentage of missing values for each column.\n",
        "2. Visualize missing data:\n",
        "   - Create a bar plot showing the percentage of missing values by column.\n",
        "3. **Nature of Missing Data**:\n",
        "   - Identified as MNAR (Missing Not At Random).\n",
        "   - Strategy: Treat missing values (`NaN`) as an additional category and let the model determine their relevance.\n",
        "\n",
        "#### **C. Data Imbalance Analysis**\n",
        "1. Evaluate the imbalance in the target variable.\n",
        "2. **Strategy for Imbalanced Data**:\n",
        "   - Use oversampling techniques like **SMOTE** (Synthetic Minority Oversampling Technique) to balance the dataset.\n",
        "\n",
        "#### **D. Analysis of Categorical and Numerical Variables**\n",
        "1. Identify:\n",
        "   - **Numerical Variables**: Example, hospitalization costs.\n",
        "   - **Categorical Variables**: Represent 90% of the dataset (binary: 0/1).\n",
        "2. Identify **cardinality** (unique values):\n",
        "   - Remove variables with extremely high or low cardinality.\n",
        "\n",
        "#### **E. Correlation Analysis**\n",
        "1. Calculate correlation for categorical variables:\n",
        "   - Use **Cramer’s V** to measure relationships between categorical variables.\n",
        "2. Calculate correlations for numerical variables:\n",
        "   - Use Pearson or Spearman correlation.\n",
        "\n",
        "---\n",
        "\n",
        "### **3. Feature Selection Using Filters**\n",
        "\n",
        "#### **A. Filter-Based Feature Selection Methods**\n",
        "1. **Remove Low Variability**:\n",
        "   - Eliminate constant or near-constant variables (e.g., columns with variance close to 0).\n",
        "   - Calculate the variance for each variable and filter based on a low threshold.\n",
        "2. **Correlation Analysis**:\n",
        "   - Use correlation to identify redundant variables.\n",
        "   - Keep only one variable from highly correlated pairs (threshold > 0.8).\n",
        "3. **Statistical Measures**:\n",
        "   - Apply techniques such as **Chi-square** (for categorical variables) or **ANOVA** (for numerical variables) to evaluate the relationship between features and the target variable.\n",
        "4. **Mutual Information**:\n",
        "   - Calculate mutual information between each variable and the target to measure nonlinear dependencies.\n",
        "5. **Univariate Selection**:\n",
        "   - Select the best variables based on univariate statistical tests.\n",
        "\n",
        "#### **B. Importance-Based Reduction**\n",
        "1. Use a baseline model like Random Forest to compute feature importance.\n",
        "2. Select the top 30 variables with the highest importance scores.\n",
        "\n",
        "---\n",
        "\n",
        "### **4. Proposed Workflow**\n",
        "\n",
        "1. **EDA**:\n",
        "   - Analyze missing data, imbalance, and general characteristics of the dataset.\n",
        "2. **Initial Filtering**:\n",
        "   - Filter by age (>50 years), remove low-variance variables, and focus only on Respondents (R).\n",
        "3. **Preprocessing**:\n",
        "   - Balance the dataset using SMOTE.\n",
        "   - Impute or categorize missing values.\n",
        "4. **Feature Selection**:\n",
        "   - Apply filter methods (variance, correlation, ANOVA, Chi-square, mutual information).\n",
        "   - Reduce to the top 30 best features.\n",
        "5. **Baseline Model**:\n",
        "   - Train a baseline model with the selected features to evaluate performance.\n",
        "6. **Fine-Tuning**:\n",
        "   - Adjust hyperparameters and optimize the final model.\n",
        "\n"
      ],
      "metadata": {
        "id": "aacZTOeCELn6"
      }
    },
    {
      "cell_type": "code",
      "source": [
        "import sys\n",
        "\n",
        "IN_COLAB = \"google.colab\" in sys.modules\n",
        "IN_COLAB\n",
        "\n",
        "if IN_COLAB:\n",
        "    from google.colab import drive\n",
        "\n",
        "    drive.mount(\"/content/drive\")\n",
        "\n",
        "#\"content/drive/MyDrive/shared-with-me/anyoneAI_FP\"\n",
        "\n",
        "if IN_COLAB:\n",
        "    ROOT_DIR = \"/content/drive/MyDrive/AY/\"\n",
        "    %cd $ROOT_DIR\n"
      ],
      "metadata": {
        "id": "uMjYo91a4Luk",
        "colab": {
          "base_uri": "https://localhost:8080/"
        },
        "outputId": "ed3f923d-b47e-474b-987e-e2c181c523f9"
      },
      "execution_count": 89,
      "outputs": [
        {
          "output_type": "stream",
          "name": "stdout",
          "text": [
            "Drive already mounted at /content/drive; to attempt to forcibly remount, call drive.mount(\"/content/drive\", force_remount=True).\n",
            "/content/drive/MyDrive/AY\n"
          ]
        }
      ]
    },
    {
      "cell_type": "code",
      "source": [
        "import pandas as pd\n",
        "import numpy as np\n",
        "from imblearn.over_sampling import SMOTE\n",
        "from sklearn.feature_selection import VarianceThreshold\n",
        "from scipy.stats import chi2_contingency\n",
        "\n",
        "\n",
        "\n",
        "def handle_missing_values(df, numeric_placeholder=-999, categorical_placeholder='Missing'):\n",
        "    \"\"\"\n",
        "    Replace missing values in numerical and categorical columns.\n",
        "    Args:\n",
        "        df (pd.DataFrame): The input dataset.\n",
        "        numeric_placeholder: Placeholder for missing numerical values.\n",
        "        categorical_placeholder: Placeholder for missing categorical values.\n",
        "    Returns:\n",
        "        pd.DataFrame: The dataframe with missing values handled.\n",
        "    \"\"\"\n",
        "    for col in df.columns:\n",
        "        if df[col].dtype in ['float64', 'int64']:\n",
        "            df[col] = df[col].fillna(numeric_placeholder)\n",
        "        else:  # Categorical columns\n",
        "            df[col] = df[col].fillna(categorical_placeholder)\n",
        "    return df\n",
        "\n",
        "\n",
        "def balance_data(X, y):\n",
        "    \"\"\"\n",
        "    Balance the dataset using SMOTE.\n",
        "    Args:\n",
        "        X (pd.DataFrame): Features dataframe.\n",
        "        y (pd.Series): Target variable.\n",
        "    Returns:\n",
        "        tuple: Balanced features (X) and target (y).\n",
        "    \"\"\"\n",
        "    smote = SMOTE(random_state=42)\n",
        "    X_balanced, y_balanced = smote.fit_resample(X, y)\n",
        "    return X_balanced, y_balanced\n",
        "\n",
        "\n",
        "def filter_by_age(df, age_column='r5agey', age_threshold=50):\n",
        "    \"\"\"\n",
        "    Filter rows by age threshold.\n",
        "    Args:\n",
        "        df (pd.DataFrame): The input dataset.\n",
        "        age_column (str): The column containing age data.\n",
        "        age_threshold (int): The minimum age to include.\n",
        "    Returns:\n",
        "        pd.DataFrame: Filtered dataset.\n",
        "    \"\"\"\n",
        "    return df[df[age_column] >= age_threshold]\n",
        "\n",
        "\n",
        "\n",
        "def remove_low_variability(df, threshold=0.01):\n",
        "    \"\"\"\n",
        "    Remove features with low variance after ensuring all columns are numeric.\n",
        "    Args:\n",
        "        df (pd.DataFrame): Input dataframe.\n",
        "        threshold (float): Variance threshold.\n",
        "    Returns:\n",
        "        pd.DataFrame: Dataframe with low-variance features removed.\n",
        "    \"\"\"\n",
        "    # Ensure all columns are numeric\n",
        "    df_numeric = df.select_dtypes(include=['number'])\n",
        "\n",
        "    # Apply VarianceThreshold\n",
        "    selector = VarianceThreshold(threshold=threshold)\n",
        "    df_filtered = selector.fit_transform(df_numeric)\n",
        "\n",
        "    # Return filtered DataFrame with selected columns\n",
        "    return pd.DataFrame(df_filtered, columns=df_numeric.columns[selector.get_support()])\n",
        "\n",
        "\n",
        "def handle_categorical_cardinality(df, max_cardinality=100, min_cardinality=2):\n",
        "    \"\"\"\n",
        "    Remove categorical features with very high or very low cardinality.\n",
        "    Args:\n",
        "        df (pd.DataFrame): Input dataframe.\n",
        "        max_cardinality (int): Maximum allowed unique values.\n",
        "        min_cardinality (int): Minimum allowed unique values.\n",
        "    Returns:\n",
        "        pd.DataFrame: Dataframe with filtered categorical variables.\n",
        "    \"\"\"\n",
        "    for col in df.select_dtypes(include=['object']).columns:\n",
        "        unique_values = df[col].nunique()\n",
        "        if unique_values > max_cardinality or unique_values < min_cardinality:\n",
        "            df = df.drop(columns=[col])\n",
        "    return df\n",
        "\n",
        "\n",
        "def calculate_v_cramer(df, categorical_columns):\n",
        "    \"\"\"\n",
        "    Calculate V Cramer correlation for categorical variables.\n",
        "    Args:\n",
        "        df (pd.DataFrame): Input dataframe.\n",
        "        categorical_columns (list): List of categorical column names.\n",
        "    Returns:\n",
        "        pd.DataFrame: Correlation matrix for categorical variables.\n",
        "    \"\"\"\n",
        "    def v_cramer(confusion_matrix):\n",
        "        chi2 = chi2_contingency(confusion_matrix)[0]\n",
        "        n = confusion_matrix.sum()\n",
        "        phi2 = chi2 / n\n",
        "        r, k = confusion_matrix.shape\n",
        "        return np.sqrt(phi2 / min(k - 1, r - 1))\n",
        "\n",
        "    corr_matrix = pd.DataFrame(index=categorical_columns, columns=categorical_columns)\n",
        "    for col1 in categorical_columns:\n",
        "        for col2 in categorical_columns:\n",
        "            if col1 == col2:\n",
        "                corr_matrix.loc[col1, col2] = 1.0\n",
        "            else:\n",
        "                confusion_matrix = pd.crosstab(df[col1], df[col2])\n",
        "                corr_matrix.loc[col1, col2] = v_cramer(confusion_matrix)\n",
        "    return corr_matrix\n",
        "\n",
        "\n",
        "def filter_alive_respondents(df, status_column='r5iwstat', alive_value='1.Resp, alive'):\n",
        "    \"\"\"\n",
        "    Filter the dataset to include only alive respondents based on the R5IWSTAT variable.\n",
        "\n",
        "    Args:\n",
        "        df (pd.DataFrame): Input dataset.\n",
        "        status_column (str): Column name indicating respondent's status (default is 'R5IWSTAT').\n",
        "        alive_value (int): Value in the status column that represents 'alive' (default is 1).\n",
        "\n",
        "    Returns:\n",
        "        pd.DataFrame: Filtered dataset containing only alive respondents.\n",
        "    \"\"\"\n",
        "    # Filter rows where the status column equals the alive value\n",
        "    filtered_df = df[df[status_column] == alive_value]\n",
        "    return filtered_df\n",
        "\n",
        "\n",
        "\n",
        "def analyze_and_handle_missing_values(df, threshold=30):\n",
        "    \"\"\"\n",
        "    Analyze missing values, visualize them, and drop columns exceeding the threshold.\n",
        "\n",
        "    Args:\n",
        "        df (pd.DataFrame): Input dataframe.\n",
        "        threshold (int): Percentage threshold for dropping columns (default: 30).\n",
        "\n",
        "    Returns:\n",
        "        pd.DataFrame: Dataframe after dropping columns with excessive missing values.\n",
        "    \"\"\"\n",
        "    # Calculate the percentage of missing values\n",
        "    missing_percentage = (df.isnull().sum() / len(df)) * 100\n",
        "\n",
        "    # Visualize missing data\n",
        "    plt.figure(figsize=(10, 6))\n",
        "    missing_percentage.sort_values(ascending=False).plot(kind='bar', color='skyblue')\n",
        "    plt.title(\"Percentage of Missing Values by Column\", fontsize=16)\n",
        "    plt.xlabel(\"Columns\", fontsize=12)\n",
        "    plt.ylabel(\"Percentage of Missing Values\", fontsize=12)\n",
        "    plt.xticks(rotation=45)\n",
        "    plt.show()\n",
        "\n",
        "    # Drop columns exceeding the threshold\n",
        "    columns_to_drop = missing_percentage[missing_percentage > threshold].index\n",
        "    print(f\"Columns dropped (>{threshold}% missing): {list(columns_to_drop)}\")\n",
        "\n",
        "    df = df.drop(columns=columns_to_drop)\n",
        "    return df\n",
        "\n",
        "\n",
        "import matplotlib.pyplot as plt\n",
        "\n",
        "def remove_columns_with_missing_values(df, missing_values_threshold=30, visualize=True):\n",
        "    \"\"\"\n",
        "    Analyze missing values, optionally visualize them, and drop columns exceeding the threshold.\n",
        "\n",
        "    Args:\n",
        "        df (pd.DataFrame): Input dataframe.\n",
        "        missing_values_threshold (int): Percentage threshold for dropping columns (default: 30).\n",
        "        visualize (bool): Whether to visualize the missing data (default: True).\n",
        "\n",
        "    Returns:\n",
        "        pd.DataFrame: Dataframe after dropping columns with excessive missing values.\n",
        "    \"\"\"\n",
        "    # Calculate the percentage of missing values\n",
        "    missing_percentage = (df.isnull().sum() / len(df)) * 100\n",
        "\n",
        "    if visualize:\n",
        "        # Visualize missing data with highlighting for columns exceeding the threshold\n",
        "        plt.figure(figsize=(10, 6))\n",
        "        colors = ['red' if val > missing_values_threshold else 'skyblue' for val in missing_percentage]\n",
        "        missing_percentage.sort_values(ascending=False).plot(kind='bar', color=colors)\n",
        "        plt.axhline(y=missing_values_threshold, color='gray', linestyle='--', linewidth=1.5, label=f'Threshold ({missing_values_threshold}%)')\n",
        "        plt.title(\"Percentage of Missing Values by Column\", fontsize=16)\n",
        "        plt.xlabel(\"Columns\", fontsize=12)\n",
        "        plt.ylabel(\"Percentage of Missing Values\", fontsize=12)\n",
        "        plt.xticks(rotation=45, ha='right')\n",
        "        plt.legend()\n",
        "        plt.show()\n",
        "\n",
        "    # Identify and drop columns exceeding the threshold\n",
        "    columns_to_drop = missing_percentage[missing_percentage > missing_values_threshold].index\n",
        "    print(f\"Dropping {len(columns_to_drop)} columns (>{missing_values_threshold}% missing): {list(columns_to_drop)}\")\n",
        "\n",
        "    # Drop the columns\n",
        "    filtered_df = df.drop(columns=columns_to_drop)\n",
        "\n",
        "    # Print updated shape\n",
        "    print(f\"Updated dataframe shape: {filtered_df.shape}\")\n",
        "\n",
        "    return filtered_df\n",
        "\n",
        "\n",
        "\n",
        "def cramers_v(x, y):\n",
        "    \"\"\"\n",
        "    Calculate Cramér's V statistic for categorical association.\n",
        "    Args:\n",
        "        x (pd.Series): First categorical variable.\n",
        "        y (pd.Series): Second categorical variable.\n",
        "    Returns:\n",
        "        float: Cramér's V statistic.\n",
        "    \"\"\"\n",
        "    # Ensure inputs are strings\n",
        "    x, y = x.astype(str), y.astype(str)\n",
        "\n",
        "    contingency_table = pd.crosstab(x, y)\n",
        "    if contingency_table.size == 0:  # Handle empty tables\n",
        "        return np.nan\n",
        "\n",
        "    chi2 = chi2_contingency(contingency_table)[0]\n",
        "    n = contingency_table.sum().sum()\n",
        "    phi2 = chi2 / n\n",
        "    r, k = contingency_table.shape\n",
        "\n",
        "    # Handle cases where min(k-1, r-1) is 0\n",
        "    if min(k - 1, r - 1) == 0:\n",
        "        return np.nan\n",
        "\n",
        "    return np.sqrt(phi2 / min(k - 1, r - 1))\n",
        "\n",
        "\n",
        "def cramers_v_matrix(df):\n",
        "    \"\"\"\n",
        "    Create a Cramér's V correlation matrix for all categorical variables.\n",
        "    Args:\n",
        "        df (pd.DataFrame): Dataframe containing categorical variables.\n",
        "    Returns:\n",
        "        pd.DataFrame: Cramér's V correlation matrix.\n",
        "    \"\"\"\n",
        "    # Automatically filter categorical columns\n",
        "    categorical_columns = df.select_dtypes(include=['object', 'category']).columns\n",
        "\n",
        "    # Ensure all categorical columns are strings\n",
        "    df = df[categorical_columns].astype(str)\n",
        "\n",
        "    cramers_matrix = pd.DataFrame(index=categorical_columns, columns=categorical_columns)\n",
        "\n",
        "    for col1 in categorical_columns:\n",
        "        for col2 in categorical_columns:\n",
        "            if col1 == col2:\n",
        "                cramers_matrix.loc[col1, col2] = 1.0\n",
        "            else:\n",
        "                cramers_matrix.loc[col1, col2] = cramers_v(df[col1], df[col2])\n",
        "\n",
        "    return cramers_matrix.astype(float)\n",
        "\n",
        "\n",
        "def remove_redundant_features_cramers(df, cramers_matrix, threshold=0.8, target_column='r5hosp1y'):\n",
        "    \"\"\"\n",
        "    Use a precomputed Cramér's V matrix to identify and remove redundant categorical features,\n",
        "    ensuring the target variable is not removed.\n",
        "\n",
        "    Args:\n",
        "        df (pd.DataFrame): Dataframe containing categorical variables.\n",
        "        cramers_matrix (pd.DataFrame): Precomputed Cramér's V correlation matrix.\n",
        "        threshold (float): Threshold for Cramér's V to consider redundancy.\n",
        "        target_column (str): The target variable that must not be removed.\n",
        "\n",
        "    Returns:\n",
        "        pd.DataFrame: Dataframe with redundant features removed.\n",
        "    \"\"\"\n",
        "    # Identify redundant variables\n",
        "    redundant_vars = set()\n",
        "    for col1 in cramers_matrix.columns:\n",
        "        for col2 in cramers_matrix.columns:\n",
        "            if col1 != col2 and cramers_matrix.loc[col1, col2] > threshold:\n",
        "                # Ensure the target variable is not added to redundant features\n",
        "                if col2 != target_column:\n",
        "                    redundant_vars.add(col2)\n",
        "\n",
        "    # Drop redundant variables while preserving the target variable\n",
        "    reduced_df = df.drop(columns=redundant_vars, errors='ignore')\n",
        "    print(f\"Removed {len(redundant_vars)} redundant features: {redundant_vars}\")\n",
        "    return reduced_df\n",
        "\n",
        "\n",
        "\n",
        "\n",
        "def handle_all_missing_as_category(df, target_column='r5hosp1y', missing_label='Missing', numerical_fill_value=-1):\n",
        "    \"\"\"\n",
        "    Treat missing values (NaN) in all columns as an additional category for categorical columns\n",
        "    and assign a default value (-1) for numerical columns, excluding the target column.\n",
        "\n",
        "    Args:\n",
        "        df (pd.DataFrame): The input dataset.\n",
        "        target_column (str): The column to exclude from missing value handling.\n",
        "        missing_label (str): The label to replace missing values with in categorical columns (default: 'Missing').\n",
        "        numerical_fill_value (int or float): The value to replace missing values with in numerical columns (default: -1).\n",
        "\n",
        "    Returns:\n",
        "        pd.DataFrame: The dataset with missing values handled appropriately.\n",
        "    \"\"\"\n",
        "    df = df.copy()\n",
        "\n",
        "    for col in df.columns:\n",
        "        if col == target_column:\n",
        "            # Skip the target column\n",
        "            continue\n",
        "        if df[col].dtype.name == 'category' or df[col].dtype == object:\n",
        "            # Handle categorical columns\n",
        "            if df[col].dtype.name == 'category':\n",
        "                # Add the missing label to the categories if the column is categorical\n",
        "                df[col] = df[col].cat.add_categories([missing_label])\n",
        "            # Replace missing values with the missing label\n",
        "            df[col] = df[col].fillna(missing_label)\n",
        "        elif pd.api.types.is_numeric_dtype(df[col]):\n",
        "            # Handle numerical columns\n",
        "            df[col] = df[col].fillna(numerical_fill_value)\n",
        "\n",
        "    return df\n",
        "\n",
        "\n",
        "\n",
        "def extract_wave_data(df, wave_number):\n",
        "    \"\"\"\n",
        "    Extract variables from a specific wave based on the second character of their names.\n",
        "    Section 1.4 of the harmonized MHAS documentation (version C.2) explains that the second character\n",
        "    of any variable refers to the particular wave the variable is encoding.\n",
        "\n",
        "    Parameters:\n",
        "    - df: DataFrame\n",
        "    - wave_number: int or str, wave identifier (1, 2, 3, 4, 5; the character 'a' denotes a cross-wave variable)\n",
        "\n",
        "    Returns:\n",
        "    - DataFrame with columns for the specified wave.\n",
        "    \"\"\"\n",
        "    # Select variables from a specific wave\n",
        "    specific_wave_columns = [col for col in df.columns if len(\n",
        "        col) > 1 and col[1] == str(wave_number)]\n",
        "\n",
        "    # Select cross-wave variables\n",
        "    cross_wave = [col for col in df.columns if len(col) > 1 and col[1] == 'a']\n",
        "\n",
        "    # Combine specific and common variables\n",
        "    wave_columns = list(set(specific_wave_columns + cross_wave))\n",
        "\n",
        "    return df[wave_columns]\n",
        "\n",
        "\n",
        "def extract_respondent_data(df):\n",
        "    \"\"\"\n",
        "    Extract variables from respondent.\n",
        "    Section 1.4 of the harmonized MHAS documentation (version C.2) explains that the first character\n",
        "    of any variable refers to the particular individual referred to by the variable.\n",
        "\n",
        "    Parameters:\n",
        "    - df: DataFrame\n",
        "\n",
        "    Returns:\n",
        "    - DataFrame with columns for respondent.\n",
        "    \"\"\"\n",
        "    return df[[col for col in df.columns if col.startswith('r')]]\n",
        "\n",
        "\n",
        "def remove_missing_values(df, column_name):\n",
        "    \"\"\"\n",
        "    Remove all rows matching missing values from a specified column\n",
        "\n",
        "    Parameters:\n",
        "    - df: DataFrame\n",
        "    - column_name: name of column to search for missing values\n",
        "\n",
        "    Returns:\n",
        "    - DataFrame with no missing values for the specified column.\n",
        "    \"\"\"\n",
        "\n",
        "    df = df[df[column_name].notna()]\n",
        "\n",
        "    return df\n",
        "\n",
        "\n",
        "def missing_value_ratio(df, ratio):\n",
        "    \"\"\"\n",
        "    Identify variables with the specified missing value ratio\n",
        "\n",
        "    Parameters:\n",
        "    - df: DataFrame\n",
        "    - ratio: proportion of missing values\n",
        "\n",
        "    Returns:\n",
        "    - List of columns with a ratio equal to or higher than the one specified by the user.\n",
        "    \"\"\"\n",
        "\n",
        "    # Identify categorical columns\n",
        "    # categorical_columns = df.select_dtypes(\n",
        "    # include=['object', 'category']).columns\n",
        "\n",
        "    # Identify and store columns with the specified missing value ratio\n",
        "    columns_matching_missing_value_ratio = [\n",
        "        col for col in df.columns\n",
        "        if df[col].isnull().mean() > ratio\n",
        "    ]\n",
        "\n",
        "    print(f\"Variables with a missing value ratio higher than {ratio}: {columns_matching_missing_value_ratio}\")\n",
        "    print(f\"Count of variables with a missing ratio higher than {ratio}: {len(columns_matching_missing_value_ratio)}\")\n",
        "\n",
        "    return columns_matching_missing_value_ratio\n",
        "\n",
        "\n",
        "\n",
        "\n",
        "def save_categorical_features_with_values(df: pd.DataFrame, file_name: str):\n",
        "    \"\"\"\n",
        "    Saves the unique values of categorical features in a DataFrame to a text file.\n",
        "\n",
        "    Parameters:\n",
        "        df (pd.DataFrame): The input DataFrame.\n",
        "        file_name (str): The name of the text file to save the output.\n",
        "    \"\"\"\n",
        "    try:\n",
        "        # Select only categorical columns\n",
        "        categorical_cols = df.select_dtypes(include=['object']).columns\n",
        "        file_path = os.path.join(DATASET_ROOT_PATH, file_name)\n",
        "        # Open the file for writing\n",
        "        with open(file_path, 'w') as f:\n",
        "            for column in df.columns:\n",
        "                # Get the unique values of the column\n",
        "                unique_values = df[column].unique()\n",
        "                # Limit the number of values shown for readability\n",
        "                unique_values_preview = unique_values[:10]  # Show up to 10 values\n",
        "                # Write the feature name and unique values to the file\n",
        "                f.write(f\"{column}: {list(unique_values_preview)}\\n\\n\")\n",
        "\n",
        "        print(f\"Categorical features with their unique values have been saved to '{file_name}'\")\n",
        "    except Exception as e:\n",
        "        print(f\"An error occurred: {e}\")\n",
        "\n",
        "\n"
      ],
      "metadata": {
        "id": "tZJ3cx_-4Lcm"
      },
      "execution_count": 90,
      "outputs": []
    },
    {
      "cell_type": "code",
      "source": [
        "import matplotlib.pyplot as plt\n",
        "import seaborn as sns\n",
        "\n",
        "def plot_missing_values(df):\n",
        "    \"\"\"\n",
        "    Plot the percentage of missing values for each column in the dataset.\n",
        "    Args:\n",
        "        df (pd.DataFrame): Input dataframe.\n",
        "    \"\"\"\n",
        "    missing_percentage = (df.isnull().sum() / len(df)) * 100\n",
        "    missing_percentage = missing_percentage[missing_percentage > 0].sort_values(ascending=False)\n",
        "\n",
        "    plt.figure(figsize=(10, 6))\n",
        "    sns.barplot(x=missing_percentage.values, y=missing_percentage.index, palette=\"viridis\")\n",
        "    plt.title(\"Percentage of Missing Values by Column\", fontsize=16)\n",
        "    plt.xlabel(\"Percentage of Missing Values\", fontsize=12)\n",
        "    plt.ylabel(\"Columns\", fontsize=12)\n",
        "    plt.show()\n",
        "\n",
        "def plot_class_distribution(target):\n",
        "    \"\"\"\n",
        "    Plot the distribution of the target variable to visualize class imbalance.\n",
        "    Args:\n",
        "        target (pd.Series): Target variable.\n",
        "    \"\"\"\n",
        "    class_counts = target.value_counts()\n",
        "\n",
        "    plt.figure(figsize=(8, 5))\n",
        "    sns.barplot(x=class_counts.index, y=class_counts.values, palette=\"coolwarm\")\n",
        "    plt.title(\"Class Distribution of Target Variable\", fontsize=16)\n",
        "    plt.xlabel(\"Classes\", fontsize=12)\n",
        "    plt.ylabel(\"Frequency\", fontsize=12)\n",
        "    plt.show()\n",
        "\n",
        "    print(f\"Class Distribution:\\n{class_counts}\")\n",
        "    print(f\"Class Ratios:\\n{class_counts / class_counts.sum() * 100}\")\n",
        "\n",
        "\n",
        "def plot_numerical_distributions(df, numeric_columns):\n",
        "    \"\"\"\n",
        "    Plot the distributions of numerical variables.\n",
        "    Args:\n",
        "        df (pd.DataFrame): Input dataframe.\n",
        "        numeric_columns (list): List of numerical column names.\n",
        "    \"\"\"\n",
        "    for col in numeric_columns:\n",
        "        plt.figure(figsize=(8, 5))\n",
        "        sns.histplot(df[col].dropna(), kde=True, bins=30, color=\"skyblue\")\n",
        "        plt.title(f\"Distribution of {col}\", fontsize=16)\n",
        "        plt.xlabel(col, fontsize=12)\n",
        "        plt.ylabel(\"Frequency\", fontsize=12)\n",
        "        plt.show()\n",
        "\n",
        "\n",
        "def plot_categorical_distributions(df, categorical_columns):\n",
        "    \"\"\"\n",
        "    Plot the distributions of categorical variables.\n",
        "    Args:\n",
        "        df (pd.DataFrame): Input dataframe.\n",
        "        categorical_columns (list): List of categorical column names.\n",
        "    \"\"\"\n",
        "    for col in categorical_columns:\n",
        "        plt.figure(figsize=(8, 5))\n",
        "        sns.countplot(x=df[col], order=df[col].value_counts().index, palette=\"muted\")\n",
        "        plt.title(f\"Distribution of {col}\", fontsize=16)\n",
        "        plt.xlabel(col, fontsize=12)\n",
        "        plt.ylabel(\"Count\", fontsize=12)\n",
        "        plt.xticks(rotation=45)\n",
        "        plt.show()\n",
        "\n",
        "\n",
        "def plot_correlation_matrix(df, numeric_columns):\n",
        "    \"\"\"\n",
        "    Plot a heatmap of correlations between numerical variables.\n",
        "    Args:\n",
        "        df (pd.DataFrame): Input dataframe.\n",
        "        numeric_columns (list): List of numerical column names.\n",
        "    \"\"\"\n",
        "    corr_matrix = df[numeric_columns].corr()\n",
        "\n",
        "    plt.figure(figsize=(10, 8))\n",
        "    sns.heatmap(corr_matrix, annot=True, fmt=\".2f\", cmap=\"coolwarm\", square=True)\n",
        "    plt.title(\"Correlation Matrix\", fontsize=16)\n",
        "    plt.show()\n",
        "\n",
        "\n",
        "def plot_v_cramer_matrix(df, categorical_columns):\n",
        "    \"\"\"\n",
        "    Plot a heatmap of V Cramer correlations between categorical variables.\n",
        "    Args:\n",
        "        df (pd.DataFrame): Input dataframe.\n",
        "        categorical_columns (list): List of categorical column names.\n",
        "    \"\"\"\n",
        "    corr_matrix = calculate_v_cramer(df, categorical_columns)\n",
        "\n",
        "    plt.figure(figsize=(10, 8))\n",
        "    sns.heatmap(corr_matrix.astype(float), annot=True, fmt=\".2f\", cmap=\"coolwarm\", square=True)\n",
        "    plt.title(\"V Cramer Correlation Matrix\", fontsize=16)\n",
        "    plt.show()\n",
        "\n",
        "\n",
        "def plot_categorical_cardinality(df, categorical_columns):\n",
        "    \"\"\"\n",
        "    Plot the cardinality (number of unique values) of categorical variables.\n",
        "    Args:\n",
        "        df (pd.DataFrame): Input dataframe.\n",
        "        categorical_columns (list): List of categorical column names.\n",
        "    \"\"\"\n",
        "    cardinality = {col: df[col].nunique() for col in categorical_columns}\n",
        "    cardinality = pd.Series(cardinality).sort_values(ascending=False)\n",
        "\n",
        "    plt.figure(figsize=(10, 6))\n",
        "    sns.barplot(x=cardinality.values, y=cardinality.index, palette=\"cool\")\n",
        "    plt.title(\"Cardinality of Categorical Variables\", fontsize=16)\n",
        "    plt.xlabel(\"Number of Unique Values\", fontsize=12)\n",
        "    plt.ylabel(\"Variables\", fontsize=12)\n",
        "    plt.show()\n"
      ],
      "metadata": {
        "id": "Nv-Xm4eo69FV"
      },
      "execution_count": 91,
      "outputs": []
    },
    {
      "cell_type": "markdown",
      "source": [
        "# Load the dataset"
      ],
      "metadata": {
        "id": "Gh0S5Enew1P7"
      }
    },
    {
      "cell_type": "code",
      "source": [
        "\n",
        "file_path = 'H_MHAS_c2.dta'\n",
        "print(\"Loading the dataset...\")\n",
        "raw_df = pd.read_stata(file_path)\n",
        "print(f\"Dataset loaded successfully with shape: {raw_df.shape}\")\n",
        "print(\"Preview of the dataset:\")\n",
        "display(raw_df.head())  # Use display() for better rendering in Jupyter Notebook"
      ],
      "metadata": {
        "colab": {
          "base_uri": "https://localhost:8080/",
          "height": 496
        },
        "id": "Qe3k1y2swzqR",
        "outputId": "614d8b07-c5b7-4fdf-e07e-e67a60cadf97"
      },
      "execution_count": 92,
      "outputs": [
        {
          "output_type": "stream",
          "name": "stdout",
          "text": [
            "Loading the dataset...\n",
            "Dataset loaded successfully with shape: (26839, 5241)\n",
            "Preview of the dataset:\n"
          ]
        },
        {
          "output_type": "display_data",
          "data": {
            "text/plain": [
              "                      codent01                             codent03  ps3  \\\n",
              "0            1.Selected person            1.Selected person in 2001  1.0   \n",
              "1  2.Spouse of selected person  2.Spouse of selected person in 2001  2.0   \n",
              "2            1.Selected person            1.Selected person in 2001  1.0   \n",
              "3  2.Spouse of selected person  2.Spouse of selected person in 2001  2.0   \n",
              "4            1.Selected person            1.Selected person in 2001  1.0   \n",
              "\n",
              "   ent2  np  unhhidnp rahhidnp                    tipent_01  \\\n",
              "0   1.0  10     110.0      110  12.Direct, second interview   \n",
              "1   2.0  20     120.0      120   11.Direct, first interview   \n",
              "2   1.0  10     210.0      210   11.Direct, first interview   \n",
              "3   2.0  20     220.0      220  12.Direct, second interview   \n",
              "4   1.0  10     310.0      310   11.Direct, first interview   \n",
              "\n",
              "                     tipent_03                      tipent_12  ...  \\\n",
              "0  12.Direct, second interview  1.Direct, follow-up interview  ...   \n",
              "1   11.Direct, first interview  1.Direct, follow-up interview  ...   \n",
              "2   22.Proxy, second interview  1.Direct, follow-up interview  ...   \n",
              "3   11.Direct, first interview   3.Proxy, follow-up interview  ...   \n",
              "4   11.Direct, first interview  1.Direct, follow-up interview  ...   \n",
              "\n",
              "  s4satlife_m s5satlife_m  r3satlifez  r4satlifez  r5satlifez  s3satlifez  \\\n",
              "0         NaN         NaN    1.510731         NaN         NaN    1.510731   \n",
              "1         NaN         NaN    1.510731   -0.387025   -0.393398    1.510731   \n",
              "2         NaN         NaN   -0.397267   -0.387025   -0.393398         NaN   \n",
              "3     1.Agree         NaN         NaN         NaN         NaN   -0.397267   \n",
              "4     1.Agree     1.Agree   -0.397267   -0.387025   -0.393398   -0.397267   \n",
              "\n",
              "   s4satlifez  s5satlifez  r2cantril s2cantril  \n",
              "0         NaN         NaN        1.0       NaN  \n",
              "1         NaN         NaN        NaN       1.0  \n",
              "2         NaN         NaN        NaN       5.0  \n",
              "3   -0.387025         NaN        5.0       NaN  \n",
              "4   -0.387025   -0.393398        1.0       NaN  \n",
              "\n",
              "[5 rows x 5241 columns]"
            ],
            "text/html": [
              "\n",
              "  <div id=\"df-431a54a6-fc9e-4a6d-a858-e8e2b165af1e\" class=\"colab-df-container\">\n",
              "    <div>\n",
              "<style scoped>\n",
              "    .dataframe tbody tr th:only-of-type {\n",
              "        vertical-align: middle;\n",
              "    }\n",
              "\n",
              "    .dataframe tbody tr th {\n",
              "        vertical-align: top;\n",
              "    }\n",
              "\n",
              "    .dataframe thead th {\n",
              "        text-align: right;\n",
              "    }\n",
              "</style>\n",
              "<table border=\"1\" class=\"dataframe\">\n",
              "  <thead>\n",
              "    <tr style=\"text-align: right;\">\n",
              "      <th></th>\n",
              "      <th>codent01</th>\n",
              "      <th>codent03</th>\n",
              "      <th>ps3</th>\n",
              "      <th>ent2</th>\n",
              "      <th>np</th>\n",
              "      <th>unhhidnp</th>\n",
              "      <th>rahhidnp</th>\n",
              "      <th>tipent_01</th>\n",
              "      <th>tipent_03</th>\n",
              "      <th>tipent_12</th>\n",
              "      <th>...</th>\n",
              "      <th>s4satlife_m</th>\n",
              "      <th>s5satlife_m</th>\n",
              "      <th>r3satlifez</th>\n",
              "      <th>r4satlifez</th>\n",
              "      <th>r5satlifez</th>\n",
              "      <th>s3satlifez</th>\n",
              "      <th>s4satlifez</th>\n",
              "      <th>s5satlifez</th>\n",
              "      <th>r2cantril</th>\n",
              "      <th>s2cantril</th>\n",
              "    </tr>\n",
              "  </thead>\n",
              "  <tbody>\n",
              "    <tr>\n",
              "      <th>0</th>\n",
              "      <td>1.Selected person</td>\n",
              "      <td>1.Selected person in 2001</td>\n",
              "      <td>1.0</td>\n",
              "      <td>1.0</td>\n",
              "      <td>10</td>\n",
              "      <td>110.0</td>\n",
              "      <td>110</td>\n",
              "      <td>12.Direct, second interview</td>\n",
              "      <td>12.Direct, second interview</td>\n",
              "      <td>1.Direct, follow-up interview</td>\n",
              "      <td>...</td>\n",
              "      <td>NaN</td>\n",
              "      <td>NaN</td>\n",
              "      <td>1.510731</td>\n",
              "      <td>NaN</td>\n",
              "      <td>NaN</td>\n",
              "      <td>1.510731</td>\n",
              "      <td>NaN</td>\n",
              "      <td>NaN</td>\n",
              "      <td>1.0</td>\n",
              "      <td>NaN</td>\n",
              "    </tr>\n",
              "    <tr>\n",
              "      <th>1</th>\n",
              "      <td>2.Spouse of selected person</td>\n",
              "      <td>2.Spouse of selected person in 2001</td>\n",
              "      <td>2.0</td>\n",
              "      <td>2.0</td>\n",
              "      <td>20</td>\n",
              "      <td>120.0</td>\n",
              "      <td>120</td>\n",
              "      <td>11.Direct, first interview</td>\n",
              "      <td>11.Direct, first interview</td>\n",
              "      <td>1.Direct, follow-up interview</td>\n",
              "      <td>...</td>\n",
              "      <td>NaN</td>\n",
              "      <td>NaN</td>\n",
              "      <td>1.510731</td>\n",
              "      <td>-0.387025</td>\n",
              "      <td>-0.393398</td>\n",
              "      <td>1.510731</td>\n",
              "      <td>NaN</td>\n",
              "      <td>NaN</td>\n",
              "      <td>NaN</td>\n",
              "      <td>1.0</td>\n",
              "    </tr>\n",
              "    <tr>\n",
              "      <th>2</th>\n",
              "      <td>1.Selected person</td>\n",
              "      <td>1.Selected person in 2001</td>\n",
              "      <td>1.0</td>\n",
              "      <td>1.0</td>\n",
              "      <td>10</td>\n",
              "      <td>210.0</td>\n",
              "      <td>210</td>\n",
              "      <td>11.Direct, first interview</td>\n",
              "      <td>22.Proxy, second interview</td>\n",
              "      <td>1.Direct, follow-up interview</td>\n",
              "      <td>...</td>\n",
              "      <td>NaN</td>\n",
              "      <td>NaN</td>\n",
              "      <td>-0.397267</td>\n",
              "      <td>-0.387025</td>\n",
              "      <td>-0.393398</td>\n",
              "      <td>NaN</td>\n",
              "      <td>NaN</td>\n",
              "      <td>NaN</td>\n",
              "      <td>NaN</td>\n",
              "      <td>5.0</td>\n",
              "    </tr>\n",
              "    <tr>\n",
              "      <th>3</th>\n",
              "      <td>2.Spouse of selected person</td>\n",
              "      <td>2.Spouse of selected person in 2001</td>\n",
              "      <td>2.0</td>\n",
              "      <td>2.0</td>\n",
              "      <td>20</td>\n",
              "      <td>220.0</td>\n",
              "      <td>220</td>\n",
              "      <td>12.Direct, second interview</td>\n",
              "      <td>11.Direct, first interview</td>\n",
              "      <td>3.Proxy, follow-up interview</td>\n",
              "      <td>...</td>\n",
              "      <td>1.Agree</td>\n",
              "      <td>NaN</td>\n",
              "      <td>NaN</td>\n",
              "      <td>NaN</td>\n",
              "      <td>NaN</td>\n",
              "      <td>-0.397267</td>\n",
              "      <td>-0.387025</td>\n",
              "      <td>NaN</td>\n",
              "      <td>5.0</td>\n",
              "      <td>NaN</td>\n",
              "    </tr>\n",
              "    <tr>\n",
              "      <th>4</th>\n",
              "      <td>1.Selected person</td>\n",
              "      <td>1.Selected person in 2001</td>\n",
              "      <td>1.0</td>\n",
              "      <td>1.0</td>\n",
              "      <td>10</td>\n",
              "      <td>310.0</td>\n",
              "      <td>310</td>\n",
              "      <td>11.Direct, first interview</td>\n",
              "      <td>11.Direct, first interview</td>\n",
              "      <td>1.Direct, follow-up interview</td>\n",
              "      <td>...</td>\n",
              "      <td>1.Agree</td>\n",
              "      <td>1.Agree</td>\n",
              "      <td>-0.397267</td>\n",
              "      <td>-0.387025</td>\n",
              "      <td>-0.393398</td>\n",
              "      <td>-0.397267</td>\n",
              "      <td>-0.387025</td>\n",
              "      <td>-0.393398</td>\n",
              "      <td>1.0</td>\n",
              "      <td>NaN</td>\n",
              "    </tr>\n",
              "  </tbody>\n",
              "</table>\n",
              "<p>5 rows × 5241 columns</p>\n",
              "</div>\n",
              "    <div class=\"colab-df-buttons\">\n",
              "\n",
              "  <div class=\"colab-df-container\">\n",
              "    <button class=\"colab-df-convert\" onclick=\"convertToInteractive('df-431a54a6-fc9e-4a6d-a858-e8e2b165af1e')\"\n",
              "            title=\"Convert this dataframe to an interactive table.\"\n",
              "            style=\"display:none;\">\n",
              "\n",
              "  <svg xmlns=\"http://www.w3.org/2000/svg\" height=\"24px\" viewBox=\"0 -960 960 960\">\n",
              "    <path d=\"M120-120v-720h720v720H120Zm60-500h600v-160H180v160Zm220 220h160v-160H400v160Zm0 220h160v-160H400v160ZM180-400h160v-160H180v160Zm440 0h160v-160H620v160ZM180-180h160v-160H180v160Zm440 0h160v-160H620v160Z\"/>\n",
              "  </svg>\n",
              "    </button>\n",
              "\n",
              "  <style>\n",
              "    .colab-df-container {\n",
              "      display:flex;\n",
              "      gap: 12px;\n",
              "    }\n",
              "\n",
              "    .colab-df-convert {\n",
              "      background-color: #E8F0FE;\n",
              "      border: none;\n",
              "      border-radius: 50%;\n",
              "      cursor: pointer;\n",
              "      display: none;\n",
              "      fill: #1967D2;\n",
              "      height: 32px;\n",
              "      padding: 0 0 0 0;\n",
              "      width: 32px;\n",
              "    }\n",
              "\n",
              "    .colab-df-convert:hover {\n",
              "      background-color: #E2EBFA;\n",
              "      box-shadow: 0px 1px 2px rgba(60, 64, 67, 0.3), 0px 1px 3px 1px rgba(60, 64, 67, 0.15);\n",
              "      fill: #174EA6;\n",
              "    }\n",
              "\n",
              "    .colab-df-buttons div {\n",
              "      margin-bottom: 4px;\n",
              "    }\n",
              "\n",
              "    [theme=dark] .colab-df-convert {\n",
              "      background-color: #3B4455;\n",
              "      fill: #D2E3FC;\n",
              "    }\n",
              "\n",
              "    [theme=dark] .colab-df-convert:hover {\n",
              "      background-color: #434B5C;\n",
              "      box-shadow: 0px 1px 3px 1px rgba(0, 0, 0, 0.15);\n",
              "      filter: drop-shadow(0px 1px 2px rgba(0, 0, 0, 0.3));\n",
              "      fill: #FFFFFF;\n",
              "    }\n",
              "  </style>\n",
              "\n",
              "    <script>\n",
              "      const buttonEl =\n",
              "        document.querySelector('#df-431a54a6-fc9e-4a6d-a858-e8e2b165af1e button.colab-df-convert');\n",
              "      buttonEl.style.display =\n",
              "        google.colab.kernel.accessAllowed ? 'block' : 'none';\n",
              "\n",
              "      async function convertToInteractive(key) {\n",
              "        const element = document.querySelector('#df-431a54a6-fc9e-4a6d-a858-e8e2b165af1e');\n",
              "        const dataTable =\n",
              "          await google.colab.kernel.invokeFunction('convertToInteractive',\n",
              "                                                    [key], {});\n",
              "        if (!dataTable) return;\n",
              "\n",
              "        const docLinkHtml = 'Like what you see? Visit the ' +\n",
              "          '<a target=\"_blank\" href=https://colab.research.google.com/notebooks/data_table.ipynb>data table notebook</a>'\n",
              "          + ' to learn more about interactive tables.';\n",
              "        element.innerHTML = '';\n",
              "        dataTable['output_type'] = 'display_data';\n",
              "        await google.colab.output.renderOutput(dataTable, element);\n",
              "        const docLink = document.createElement('div');\n",
              "        docLink.innerHTML = docLinkHtml;\n",
              "        element.appendChild(docLink);\n",
              "      }\n",
              "    </script>\n",
              "  </div>\n",
              "\n",
              "\n",
              "<div id=\"df-4e17cb5a-c0c1-476c-b9e3-f227bb3380fe\">\n",
              "  <button class=\"colab-df-quickchart\" onclick=\"quickchart('df-4e17cb5a-c0c1-476c-b9e3-f227bb3380fe')\"\n",
              "            title=\"Suggest charts\"\n",
              "            style=\"display:none;\">\n",
              "\n",
              "<svg xmlns=\"http://www.w3.org/2000/svg\" height=\"24px\"viewBox=\"0 0 24 24\"\n",
              "     width=\"24px\">\n",
              "    <g>\n",
              "        <path d=\"M19 3H5c-1.1 0-2 .9-2 2v14c0 1.1.9 2 2 2h14c1.1 0 2-.9 2-2V5c0-1.1-.9-2-2-2zM9 17H7v-7h2v7zm4 0h-2V7h2v10zm4 0h-2v-4h2v4z\"/>\n",
              "    </g>\n",
              "</svg>\n",
              "  </button>\n",
              "\n",
              "<style>\n",
              "  .colab-df-quickchart {\n",
              "      --bg-color: #E8F0FE;\n",
              "      --fill-color: #1967D2;\n",
              "      --hover-bg-color: #E2EBFA;\n",
              "      --hover-fill-color: #174EA6;\n",
              "      --disabled-fill-color: #AAA;\n",
              "      --disabled-bg-color: #DDD;\n",
              "  }\n",
              "\n",
              "  [theme=dark] .colab-df-quickchart {\n",
              "      --bg-color: #3B4455;\n",
              "      --fill-color: #D2E3FC;\n",
              "      --hover-bg-color: #434B5C;\n",
              "      --hover-fill-color: #FFFFFF;\n",
              "      --disabled-bg-color: #3B4455;\n",
              "      --disabled-fill-color: #666;\n",
              "  }\n",
              "\n",
              "  .colab-df-quickchart {\n",
              "    background-color: var(--bg-color);\n",
              "    border: none;\n",
              "    border-radius: 50%;\n",
              "    cursor: pointer;\n",
              "    display: none;\n",
              "    fill: var(--fill-color);\n",
              "    height: 32px;\n",
              "    padding: 0;\n",
              "    width: 32px;\n",
              "  }\n",
              "\n",
              "  .colab-df-quickchart:hover {\n",
              "    background-color: var(--hover-bg-color);\n",
              "    box-shadow: 0 1px 2px rgba(60, 64, 67, 0.3), 0 1px 3px 1px rgba(60, 64, 67, 0.15);\n",
              "    fill: var(--button-hover-fill-color);\n",
              "  }\n",
              "\n",
              "  .colab-df-quickchart-complete:disabled,\n",
              "  .colab-df-quickchart-complete:disabled:hover {\n",
              "    background-color: var(--disabled-bg-color);\n",
              "    fill: var(--disabled-fill-color);\n",
              "    box-shadow: none;\n",
              "  }\n",
              "\n",
              "  .colab-df-spinner {\n",
              "    border: 2px solid var(--fill-color);\n",
              "    border-color: transparent;\n",
              "    border-bottom-color: var(--fill-color);\n",
              "    animation:\n",
              "      spin 1s steps(1) infinite;\n",
              "  }\n",
              "\n",
              "  @keyframes spin {\n",
              "    0% {\n",
              "      border-color: transparent;\n",
              "      border-bottom-color: var(--fill-color);\n",
              "      border-left-color: var(--fill-color);\n",
              "    }\n",
              "    20% {\n",
              "      border-color: transparent;\n",
              "      border-left-color: var(--fill-color);\n",
              "      border-top-color: var(--fill-color);\n",
              "    }\n",
              "    30% {\n",
              "      border-color: transparent;\n",
              "      border-left-color: var(--fill-color);\n",
              "      border-top-color: var(--fill-color);\n",
              "      border-right-color: var(--fill-color);\n",
              "    }\n",
              "    40% {\n",
              "      border-color: transparent;\n",
              "      border-right-color: var(--fill-color);\n",
              "      border-top-color: var(--fill-color);\n",
              "    }\n",
              "    60% {\n",
              "      border-color: transparent;\n",
              "      border-right-color: var(--fill-color);\n",
              "    }\n",
              "    80% {\n",
              "      border-color: transparent;\n",
              "      border-right-color: var(--fill-color);\n",
              "      border-bottom-color: var(--fill-color);\n",
              "    }\n",
              "    90% {\n",
              "      border-color: transparent;\n",
              "      border-bottom-color: var(--fill-color);\n",
              "    }\n",
              "  }\n",
              "</style>\n",
              "\n",
              "  <script>\n",
              "    async function quickchart(key) {\n",
              "      const quickchartButtonEl =\n",
              "        document.querySelector('#' + key + ' button');\n",
              "      quickchartButtonEl.disabled = true;  // To prevent multiple clicks.\n",
              "      quickchartButtonEl.classList.add('colab-df-spinner');\n",
              "      try {\n",
              "        const charts = await google.colab.kernel.invokeFunction(\n",
              "            'suggestCharts', [key], {});\n",
              "      } catch (error) {\n",
              "        console.error('Error during call to suggestCharts:', error);\n",
              "      }\n",
              "      quickchartButtonEl.classList.remove('colab-df-spinner');\n",
              "      quickchartButtonEl.classList.add('colab-df-quickchart-complete');\n",
              "    }\n",
              "    (() => {\n",
              "      let quickchartButtonEl =\n",
              "        document.querySelector('#df-4e17cb5a-c0c1-476c-b9e3-f227bb3380fe button');\n",
              "      quickchartButtonEl.style.display =\n",
              "        google.colab.kernel.accessAllowed ? 'block' : 'none';\n",
              "    })();\n",
              "  </script>\n",
              "</div>\n",
              "\n",
              "    </div>\n",
              "  </div>\n"
            ],
            "application/vnd.google.colaboratory.intrinsic+json": {
              "type": "dataframe"
            }
          },
          "metadata": {}
        }
      ]
    },
    {
      "cell_type": "markdown",
      "source": [
        "\n",
        "# Step 1: Filter data from Wave 5"
      ],
      "metadata": {
        "id": "9Ji8EgEoxFW9"
      }
    },
    {
      "cell_type": "code",
      "source": [
        "print(\"\\nFiltering data for Wave 5...\")\n",
        "wave_5_df = extract_wave_data(raw_df, \"5\")\n",
        "print(f\"Wave 5 dataframe shape: {wave_5_df.shape}\")"
      ],
      "metadata": {
        "colab": {
          "base_uri": "https://localhost:8080/"
        },
        "id": "0L-6tqlhxDnB",
        "outputId": "3be124da-afbe-4a5b-86d4-9a052ce49e0e"
      },
      "execution_count": 93,
      "outputs": [
        {
          "output_type": "stream",
          "name": "stdout",
          "text": [
            "\n",
            "Filtering data for Wave 5...\n",
            "Wave 5 dataframe shape: (26839, 1004)\n"
          ]
        }
      ]
    },
    {
      "cell_type": "markdown",
      "source": [
        "# Step 2: Include only direct respondents"
      ],
      "metadata": {
        "id": "z1csR0_pxNBN"
      }
    },
    {
      "cell_type": "code",
      "source": [
        "print(\"\\nFiltering data for direct respondents only...\")\n",
        "wave_5_respondents_df = extract_respondent_data(wave_5_df)\n",
        "print(f\"Wave 5 respondent-only dataframe shape: {wave_5_respondents_df.shape}\")"
      ],
      "metadata": {
        "colab": {
          "base_uri": "https://localhost:8080/"
        },
        "id": "OMp04SS-xKv_",
        "outputId": "06d8b34c-e886-49cd-b397-efdcac584bbf"
      },
      "execution_count": 94,
      "outputs": [
        {
          "output_type": "stream",
          "name": "stdout",
          "text": [
            "\n",
            "Filtering data for direct respondents only...\n",
            "Wave 5 respondent-only dataframe shape: (26839, 469)\n"
          ]
        }
      ]
    },
    {
      "cell_type": "markdown",
      "source": [
        "\n",
        "# Step 3: Filter for elderly individuals aged 50 or older"
      ],
      "metadata": {
        "id": "uBJypvqgxUJ1"
      }
    },
    {
      "cell_type": "code",
      "source": [
        "print(\"\\nFiltering data for elderly individuals (aged 50+)...\")\n",
        "elderly_individuals_df = filter_by_age(wave_5_respondents_df)\n",
        "print(f\"Wave 5 elderly individuals dataframe shape: {elderly_individuals_df.shape}\")"
      ],
      "metadata": {
        "colab": {
          "base_uri": "https://localhost:8080/"
        },
        "id": "TKNo5XplxSJx",
        "outputId": "1daf9f5a-5155-4cd3-8eee-92a1c68bf6a0"
      },
      "execution_count": 95,
      "outputs": [
        {
          "output_type": "stream",
          "name": "stdout",
          "text": [
            "\n",
            "Filtering data for elderly individuals (aged 50+)...\n",
            "Wave 5 elderly individuals dataframe shape: (15868, 469)\n"
          ]
        }
      ]
    },
    {
      "cell_type": "markdown",
      "source": [
        "\n",
        "# Step 4: Exclude individuals who passed away"
      ],
      "metadata": {
        "id": "GgEjuqnAyWcC"
      }
    },
    {
      "cell_type": "code",
      "source": [
        "print(\"\\nExcluding individuals who passed away during the waves...\")\n",
        "alive_individual_df = filter_alive_respondents(elderly_individuals_df)\n",
        "print(f\"Wave 5 alive individuals dataframe shape: {alive_individual_df.shape}\")"
      ],
      "metadata": {
        "colab": {
          "base_uri": "https://localhost:8080/"
        },
        "id": "f7tudTQUyUrl",
        "outputId": "b0979987-371c-4e86-be9e-7e640cc8fec4"
      },
      "execution_count": 96,
      "outputs": [
        {
          "output_type": "stream",
          "name": "stdout",
          "text": [
            "\n",
            "Excluding individuals who passed away during the waves...\n",
            "Wave 5 alive individuals dataframe shape: (15868, 469)\n"
          ]
        }
      ]
    },
    {
      "cell_type": "markdown",
      "source": [
        "# Step 5: Visualize missing values"
      ],
      "metadata": {
        "id": "ueoNEPz5yc8l"
      }
    },
    {
      "cell_type": "code",
      "source": [
        "print(\"\\nVisualizing missing values...\")\n",
        "plot_missing_values(alive_individual_df)"
      ],
      "metadata": {
        "colab": {
          "base_uri": "https://localhost:8080/",
          "height": 691
        },
        "id": "ekr385eiybAQ",
        "outputId": "cfeaa268-9a10-4993-d990-0de79a0b4287"
      },
      "execution_count": 97,
      "outputs": [
        {
          "output_type": "stream",
          "name": "stdout",
          "text": [
            "\n",
            "Visualizing missing values...\n"
          ]
        },
        {
          "output_type": "stream",
          "name": "stderr",
          "text": [
            "<ipython-input-91-50447ff25624>:14: FutureWarning: \n",
            "\n",
            "Passing `palette` without assigning `hue` is deprecated and will be removed in v0.14.0. Assign the `y` variable to `hue` and set `legend=False` for the same effect.\n",
            "\n",
            "  sns.barplot(x=missing_percentage.values, y=missing_percentage.index, palette=\"viridis\")\n"
          ]
        },
        {
          "output_type": "display_data",
          "data": {
            "text/plain": [
              "<Figure size 1000x600 with 1 Axes>"
            ],
            "image/png": "[encoded data removed]"
          },
          "metadata": {}
        }
      ]
    },
    {
      "cell_type": "markdown",
      "source": [
        "\n",
        "# Step 6: Remove columns with more than 30% missing values"
      ],
      "metadata": {
        "id": "lSZ1SKY50Tit"
      }
    },
    {
      "cell_type": "code",
      "source": [
        "missing_percentage_threshold = 30\n",
        "print(f\"\\nRemoving columns with more than {missing_percentage_threshold}% missing values...\")\n",
        "df_filtered_by_missing_values = remove_columns_with_missing_values(alive_individual_df, missing_percentage_threshold)\n",
        "print(f\"Dataframe shape after removing columns with excessive missing values: {df_filtered_by_missing_values.shape}\")"
      ],
      "metadata": {
        "colab": {
          "base_uri": "https://localhost:8080/",
          "height": 756
        },
        "id": "v4vEoB9F0QcE",
        "outputId": "1b1d04eb-b531-4615-819a-104abf75680f"
      },
      "execution_count": 98,
      "outputs": [
        {
          "output_type": "stream",
          "name": "stdout",
          "text": [
            "\n",
            "Removing columns with more than 30% missing values...\n"
          ]
        },
        {
          "output_type": "display_data",
          "data": {
            "text/plain": [
              "<Figure size 1000x600 with 1 Axes>"
            ],
            "image/png": "[encoded data removed]"
          },
          "metadata": {}
        },
        {
          "output_type": "stream",
          "name": "stdout",
          "text": [
            "Dropping 172 columns (>30% missing): ['r5recstrok', 'r5ripfcaren', 'r5rscaredpmm', 'r5rccarehr', 'r5reccancr', 'r5breast', 'r5ciqscore15', 'r5rccarehrm', 'r5riscaredpmm', 'r5rascaredpm', 'r5raccaredpm', 'r5rircaredpmm', 'r5rechrtatt', 'r5paina', 'r5rcany', 'r5haluc', 'r5rscaredpm', 'r5walkhlp', 'r5moneyhlp', 'r5rjudg', 'r5riscare', 'r5rifcare', 'r5strtsmok', 'r5ripfcaredpmm', 'r5rafcaren', 'r5jcten', 'r5ciqscore12', 'r5rccaren', 'r5rircarehrm', 'r5ciqscore10', 'r5arthlmt', 'r5unemp', 'r5jredhr', 'r5ripfcarehrm', 'r5riscarehrm', 'r5penic', 'r5jrsleft', 'r5rifcaredpmm', 'r5ciqscore3', 'r5rafcarehr', 'r5hrtatlmt', 'r5rircaren', 'r5rfcarehr', 'r5rascarehrm', 'r5rarcarehrm', 'r5raccarehrm', 'r5ripfcarehr', 'r5prmem', 'r5rarcaredpm', 'r5rpfcarehrm', 'r5rfcaredpm', 'r5ciqscore6', 'r5riccarehrm', 'r5lifein_m', 'r5ciqscore8', 'r5resplmt', 'r5riscaredpm', 'r5rascarehr', 'r5riccaredpmm', 'r5rrcarehrm', 'r5rarcaredpmm', 'r5rrcarehr', 'r5raccaren', 'r5racany', 'r5rrcaredpm', 'r5lstmnspd', 'r5slfemp', 'r5hystere', 'r5ricany', 'r5rapfcaren', 'r5retage', 'r5rascaredpmm', 'r5pubage', 'r5wander', 'r5walkre', 'r5rapfcarehr', 'r5cjormscore', 'r5medhlp', 'r5rfaany', 'r5retyr', 'r5rscare', 'r5rfcarehrm', 'r5rifcaredpm', 'r5rapfcarehrm', 'r5rpfcarehr', 'r5quitsmok', 'r5rarcare', 'radmonth', 'r5rpfcaredpmm', 'r5rrcaredpmm', 'r5rifcarehrm', 'r5mealhlp', 'r5rapfcaredpmm', 'r5flstmnspd', 'r5ciqscore13', 'r5raccarehr', 'r5rpfcare', 'r5rircarehr', 'r5riccaredpm', 'r5shophlp', 'r5ricaany', 'r5rafaany', 'r5rifcaren', 'r5papsm', 'r5rircaredpm', 'r5ripfcaredpm', 'r5bedhlp', 'r5rccare', 'r5riscarehr', 'r5lost', 'r5riccarehr', 'r5ciqscore1', 'r5penage', 'r5bede', 'r5eathlp', 'r5rapfcaredpm', 'r5jlocc_m', 'r5ciqscore9', 'r5ssic', 'r5racaany', 'r5rfcaren', 'radyear', 'r5rpfcaren', 'r5rarcaren', 'r5rifcarehr', 'r5rafcarehrm', 'r5rccaredpm', 'r5ripfcare', 'r5rifaany', 'r5raccaredpmm', 'r5rafcaredpm', 'r5rircare', 'r5walkr', 'r5rscarehrm', 'r5stroklmt', 'r5rapfcare', 'r5ciqscore14', 'r5ciqscore7', 'r5rcaany', 'r5ciqscore16', 'r5prchmem', 'r5rarcarehr', 'r5rfcare', 'r5rrcare', 'r5rscarehr', 'r5jhours', 'r5bathehlp', 'r5ciqscore11', 'r5riccare', 'r5riccaren', 'r5rccaredpmm', 'r5ciqscore2', 'r5bed', 'r5rrcaren', 'r5toilt', 'r5jlasty', 'r5prost', 'r5raccare', 'r5rafcare', 'r5ciqscore5', 'r5bath', 'r5rfcaredpmm', 'r5ciqscore4', 'r5toilethlp', 'r5rascare', 'r5rorgnz', 'r5mammog', 'r5rpfcaredpm', 'r5dresshlp', 'r5alone', 'r5rafcaredpmm', 'r5eat']\n",
            "Updated dataframe shape: (15868, 297)\n",
            "Dataframe shape after removing columns with excessive missing values: (15868, 297)\n"
          ]
        }
      ]
    },
    {
      "cell_type": "markdown",
      "source": [
        "# Step 7: Handle the target column (r5hosp1y)"
      ],
      "metadata": {
        "id": "cZMMN97b2kUn"
      }
    },
    {
      "cell_type": "code",
      "source": [
        "target_column = 'r5hosp1y'\n",
        "target_mapping = {'1.Yes': 1, '0.No': 0}\n",
        "print(f\"\\nProcessing the target column '{target_column}'...\")\n",
        "cleaned_df = (\n",
        "    df_filtered_by_missing_values\n",
        "    .dropna(subset=[target_column])  # Remove rows with missing target values\n",
        "    .assign(**{target_column: df_filtered_by_missing_values[target_column].map(target_mapping)})  # Map to 1s and 0s\n",
        ")\n",
        "print(f\"Dataframe shape after processing target column: {cleaned_df.shape}\")"
      ],
      "metadata": {
        "colab": {
          "base_uri": "https://localhost:8080/"
        },
        "id": "cZSWrzgt0lRf",
        "outputId": "0a813e1f-a9a5-4706-b239-0c49d60aa21d"
      },
      "execution_count": 99,
      "outputs": [
        {
          "output_type": "stream",
          "name": "stdout",
          "text": [
            "\n",
            "Processing the target column 'r5hosp1y'...\n",
            "Dataframe shape after processing target column: (15807, 297)\n"
          ]
        }
      ]
    },
    {
      "cell_type": "markdown",
      "source": [
        "# Step 8: Handle missing values for all columns (excluding the target column)"
      ],
      "metadata": {
        "id": "ZlJskvoe0vwY"
      }
    },
    {
      "cell_type": "code",
      "source": [
        "print(\"\\nHandling missing values for all columns...\")\n",
        "final_data = handle_all_missing_as_category(cleaned_df, target_column=target_column)\n",
        "print(f\"Final dataset shape: {final_data.shape}\")"
      ],
      "metadata": {
        "colab": {
          "base_uri": "https://localhost:8080/"
        },
        "id": "FrpDK7bE0r8Q",
        "outputId": "1b8d9b02-7d6e-4e80-b0a3-ad188adfe301"
      },
      "execution_count": 100,
      "outputs": [
        {
          "output_type": "stream",
          "name": "stdout",
          "text": [
            "\n",
            "Handling missing values for all columns...\n",
            "Final dataset shape: (15807, 297)\n"
          ]
        }
      ]
    },
    {
      "cell_type": "markdown",
      "source": [
        "\n",
        "# Step 9: Save the cleaned dataset"
      ],
      "metadata": {
        "id": "NORaA0N_03wH"
      }
    },
    {
      "cell_type": "code",
      "source": [
        "output_path = 'cleaned_dataset.csv'\n",
        "final_data.to_csv(output_path, index=False)\n",
        "print(f\"\\nCleaned dataset saved successfully to {output_path}\")"
      ],
      "metadata": {
        "colab": {
          "base_uri": "https://localhost:8080/"
        },
        "id": "fGDbmRfh01OP",
        "outputId": "efc72214-c96a-428e-86b4-05f7316f8216"
      },
      "execution_count": 101,
      "outputs": [
        {
          "output_type": "stream",
          "name": "stdout",
          "text": [
            "\n",
            "Cleaned dataset saved successfully to cleaned_dataset.csv\n"
          ]
        }
      ]
    },
    {
      "cell_type": "code",
      "source": [
        "data = final_data.copy()\n",
        "\n",
        "plot_class_distribution(data ['r5hosp1y'])"
      ],
      "metadata": {
        "colab": {
          "base_uri": "https://localhost:8080/",
          "height": 753
        },
        "id": "3m9AO7zACLEQ",
        "outputId": "a6e38cee-aa1b-476d-bc44-7a284fb79f6b"
      },
      "execution_count": 102,
      "outputs": [
        {
          "output_type": "stream",
          "name": "stderr",
          "text": [
            "<ipython-input-91-50447ff25624>:29: FutureWarning: \n",
            "\n",
            "Passing `palette` without assigning `hue` is deprecated and will be removed in v0.14.0. Assign the `x` variable to `hue` and set `legend=False` for the same effect.\n",
            "\n",
            "  sns.barplot(x=class_counts.index, y=class_counts.values, palette=\"coolwarm\")\n"
          ]
        },
        {
          "output_type": "display_data",
          "data": {
            "text/plain": [
              "<Figure size 800x500 with 1 Axes>"
            ],
            "image/png": "[encoded data removed]"
          },
          "metadata": {}
        },
        {
          "output_type": "stream",
          "name": "stdout",
          "text": [
            "Class Distribution:\n",
            "r5hosp1y\n",
            "0    13595\n",
            "1     2212\n",
            "Name: count, dtype: int64\n",
            "Class Ratios:\n",
            "r5hosp1y\n",
            "0    86.0062\n",
            "1    13.9938\n",
            "Name: count, dtype: float64\n"
          ]
        }
      ]
    },
    {
      "cell_type": "markdown",
      "source": [
        "# Feature Selection using Mutual Information (MI)"
      ],
      "metadata": {
        "id": "-7nGeN9p5GDE"
      }
    },
    {
      "cell_type": "markdown",
      "source": [
        "Reduce the number of features by selecting only the most relevant ones based on their dependency with the target variable."
      ],
      "metadata": {
        "id": "4Q7LOcCS5hkx"
      }
    },
    {
      "cell_type": "markdown",
      "source": [
        "## 1. Prepare the data"
      ],
      "metadata": {
        "id": "ojBngegf6iBd"
      }
    },
    {
      "cell_type": "markdown",
      "source": [
        "Handle missing values (imputation or categorization).**texto en negrita**"
      ],
      "metadata": {
        "id": "soV73Ky85txF"
      }
    },
    {
      "cell_type": "code",
      "source": [
        "missing_values = (data.isnull().sum() / len(data)) * 100\n",
        "missing_values = missing_values[missing_values > 0]  # Filtrar solo columnas con NaN\n",
        "\n",
        "print(\"\\nSummary of missing values:\")\n",
        "print(missing_values.describe())"
      ],
      "metadata": {
        "colab": {
          "base_uri": "https://localhost:8080/"
        },
        "id": "DykvNoy15vvS",
        "outputId": "945ac845-26dd-4171-f75d-a8fc30f81092"
      },
      "execution_count": 103,
      "outputs": [
        {
          "output_type": "stream",
          "name": "stdout",
          "text": [
            "\n",
            "Summary of missing values:\n",
            "count    0.0\n",
            "mean     NaN\n",
            "std      NaN\n",
            "min      NaN\n",
            "25%      NaN\n",
            "50%      NaN\n",
            "75%      NaN\n",
            "max      NaN\n",
            "dtype: float64\n"
          ]
        }
      ]
    },
    {
      "cell_type": "markdown",
      "source": [
        "Convert categorical variables into numerical format."
      ],
      "metadata": {
        "id": "-Ogiks0r6X1b"
      }
    },
    {
      "cell_type": "code",
      "source": [
        "import pandas as pd\n",
        "import numpy as np\n",
        "from sklearn.preprocessing import LabelEncoder\n",
        "from sklearn.feature_selection import mutual_info_classif"
      ],
      "metadata": {
        "id": "sDkKlUXt_Lrs"
      },
      "execution_count": 104,
      "outputs": []
    },
    {
      "cell_type": "code",
      "source": [
        "# Define target variable\n",
        "TARGET_VAR = \"r5hosp1y\"\n",
        "\n",
        "data = final_data.copy()\n",
        "\n",
        "\n",
        "# Identify categorical features\n",
        "cat_cols = data.select_dtypes(include=['category', 'object']).columns\n",
        "cat_cols = cat_cols.drop(TARGET_VAR, errors='ignore')  # Remove target from categorical columns\n",
        "\n",
        "# Copy categorical data\n",
        "X_cat = data[cat_cols].copy()\n",
        "\n",
        "# Encode categorical variables\n",
        "label_encoders = {}\n",
        "for col in cat_cols:\n",
        "    le = LabelEncoder()\n",
        "    X_cat[col] = le.fit_transform(X_cat[col])  # Convert categories to numbers\n",
        "    label_encoders[col] = le  # Store encoders for reference\n",
        "\n",
        "print(\"✅ Categorical variables encoded successfully!\")\n",
        "\n"
      ],
      "metadata": {
        "colab": {
          "base_uri": "https://localhost:8080/"
        },
        "id": "DQCGSFIP64Fq",
        "outputId": "15d5c0e2-606d-4ae9-9785-ed861d44fe75"
      },
      "execution_count": 105,
      "outputs": [
        {
          "output_type": "stream",
          "name": "stdout",
          "text": [
            "✅ Categorical variables encoded successfully!\n"
          ]
        }
      ]
    },
    {
      "cell_type": "markdown",
      "source": [
        "# 2. Compute Mutual Information (MI)"
      ],
      "metadata": {
        "id": "VVCKfa5k-pId"
      }
    },
    {
      "cell_type": "markdown",
      "source": [
        "Mutual Information measures the dependency between each feature and the target variable. A higher MI score means the feature contains more information about the target."
      ],
      "metadata": {
        "id": "s9Wt1BKl-wX_"
      }
    },
    {
      "cell_type": "code",
      "source": [
        "# Compute MI for categorical features\n",
        "mi_scores = mutual_info_classif(X_cat, data[TARGET_VAR], discrete_features=True, random_state=42)\n",
        "\n",
        "# Store results in a DataFrame\n",
        "mi_df = pd.DataFrame({'Feature': X_cat.columns, 'MI Score': mi_scores})\n",
        "mi_df = mi_df.sort_values(by=\"MI Score\", ascending=False)  # Sort by importance\n",
        "\n",
        "# Display top 30 most informative features\n",
        "print(mi_df.head(30))\n"
      ],
      "metadata": {
        "colab": {
          "base_uri": "https://localhost:8080/"
        },
        "id": "zfD0PW4a_DPk",
        "outputId": "62513747-f198-4c8b-dc04-a92f4c42863c"
      },
      "execution_count": 106,
      "outputs": [
        {
          "output_type": "stream",
          "name": "stdout",
          "text": [
            "         Feature  MI Score\n",
            "131     rahhidnp  0.404851\n",
            "113     r5lbrf_m  0.019366\n",
            "52   r5oophosf1y  0.017153\n",
            "155    r5adlaa_m  0.016676\n",
            "46       r5walks  0.015543\n",
            "11      r5walksa  0.015502\n",
            "168    r5grossaa  0.015303\n",
            "129       r5lift  0.015113\n",
            "71       r5lifta  0.015079\n",
            "27         r5jog  0.014534\n",
            "119       r5push  0.014470\n",
            "4     r5adltot6a  0.014459\n",
            "125      r5pusha  0.014410\n",
            "102   r5doctor1y  0.014225\n",
            "206    r5mobilaa  0.014185\n",
            "105      r5adlaa  0.014081\n",
            "170  r5uppermoba  0.014041\n",
            "34    r5adlfivea  0.013761\n",
            "188    r5nagi10a  0.013566\n",
            "175     r5nagi8a  0.013294\n",
            "76      r5walkra  0.013258\n",
            "6    r5mobilseva  0.013221\n",
            "109      r5batha  0.012777\n",
            "64       r5clims  0.012751\n",
            "123      r5clim1  0.012639\n",
            "25      r5clim1a  0.012533\n",
            "174      r5stoop  0.012518\n",
            "77   r5iadlfoura  0.012506\n",
            "93     r5lgmusaa  0.012488\n",
            "5         r5joga  0.012474\n"
          ]
        }
      ]
    },
    {
      "cell_type": "markdown",
      "source": [
        "## 3. Visualize the MI Scores"
      ],
      "metadata": {
        "id": "8Tr7KRiHSyY-"
      }
    },
    {
      "cell_type": "markdown",
      "source": [
        " A bar plot helps us see which features contribute the most to the prediction."
      ],
      "metadata": {
        "id": "fF6hV3_VS9zg"
      }
    },
    {
      "cell_type": "code",
      "source": [
        "import seaborn as sns\n",
        "import matplotlib.pyplot as plt\n",
        "\n",
        "plt.figure(figsize=(10,6))\n",
        "sns.barplot(x=mi_df[\"MI Score\"][:20], y=mi_df[\"Feature\"][:20], palette=\"coolwarm\")\n",
        "plt.xlabel(\"Mutual Information Score\")\n",
        "plt.ylabel(\"Feature\")\n",
        "plt.title(\"Top 20 Features with Highest MI\")\n",
        "plt.show()\n"
      ],
      "metadata": {
        "colab": {
          "base_uri": "https://localhost:8080/",
          "height": 651
        },
        "id": "1XTM0BucS-fo",
        "outputId": "d5a8ab06-de47-4e0c-f24b-fd37311b92b0"
      },
      "execution_count": 107,
      "outputs": [
        {
          "output_type": "stream",
          "name": "stderr",
          "text": [
            "<ipython-input-107-7436010d200c>:5: FutureWarning: \n",
            "\n",
            "Passing `palette` without assigning `hue` is deprecated and will be removed in v0.14.0. Assign the `y` variable to `hue` and set `legend=False` for the same effect.\n",
            "\n",
            "  sns.barplot(x=mi_df[\"MI Score\"][:20], y=mi_df[\"Feature\"][:20], palette=\"coolwarm\")\n"
          ]
        },
        {
          "output_type": "display_data",
          "data": {
            "text/plain": [
              "<Figure size 1000x600 with 1 Axes>"
            ],
            "image/png": "[encoded data removed]"
          },
          "metadata": {}
        }
      ]
    },
    {
      "cell_type": "markdown",
      "source": [
        "## 4. Select the Most Relevant Features"
      ],
      "metadata": {
        "id": "8FNfkpYBVN7b"
      }
    },
    {
      "cell_type": "code",
      "source": [
        "# Select features with MI score above threshold\n",
        "mi_df_cat = mi_df[mi_df[\"MI Score\"] > 0.01][\"Feature\"].tolist()\n",
        "\n",
        "# Keep only selected features\n",
        "X_selected = X_cat[mi_df_cat]\n",
        "\n",
        "print(f\"✅ Selected {len(mi_df_cat)} features from {X_cat.shape[1]}\")\n",
        "mi_df_cat\n"
      ],
      "metadata": {
        "colab": {
          "base_uri": "https://localhost:8080/"
        },
        "id": "y61SADqJVTW7",
        "outputId": "e47f04c0-b802-448e-a91d-d53e1ecf5943"
      },
      "execution_count": 108,
      "outputs": [
        {
          "output_type": "stream",
          "name": "stdout",
          "text": [
            "✅ Selected 49 features from 211\n"
          ]
        },
        {
          "output_type": "execute_result",
          "data": {
            "text/plain": [
              "['rahhidnp',\n",
              " 'r5lbrf_m',\n",
              " 'r5oophosf1y',\n",
              " 'r5adlaa_m',\n",
              " 'r5walks',\n",
              " 'r5walksa',\n",
              " 'r5grossaa',\n",
              " 'r5lift',\n",
              " 'r5lifta',\n",
              " 'r5jog',\n",
              " 'r5push',\n",
              " 'r5adltot6a',\n",
              " 'r5pusha',\n",
              " 'r5doctor1y',\n",
              " 'r5mobilaa',\n",
              " 'r5adlaa',\n",
              " 'r5uppermoba',\n",
              " 'r5adlfivea',\n",
              " 'r5nagi10a',\n",
              " 'r5nagi8a',\n",
              " 'r5walkra',\n",
              " 'r5mobilseva',\n",
              " 'r5batha',\n",
              " 'r5clims',\n",
              " 'r5clim1',\n",
              " 'r5clim1a',\n",
              " 'r5stoop',\n",
              " 'r5iadlfoura',\n",
              " 'r5lgmusaa',\n",
              " 'r5joga',\n",
              " 'r5stoopa',\n",
              " 'r5shop',\n",
              " 'r5shopa',\n",
              " 'r5lowermoba',\n",
              " 'r5beda',\n",
              " 'r5hearte',\n",
              " 'r5climsa',\n",
              " 'r5cholst',\n",
              " 'r5adlwaa',\n",
              " 'r5toilta',\n",
              " 'r5walk1',\n",
              " 'r5fineaa',\n",
              " 'r5walk1a',\n",
              " 'r5hltc',\n",
              " 'r5meals',\n",
              " 'r5shlt',\n",
              " 'r5mealsa',\n",
              " 'r5dress',\n",
              " 'r5dressa']"
            ]
          },
          "metadata": {},
          "execution_count": 108
        }
      ]
    },
    {
      "cell_type": "markdown",
      "source": [
        "## 5. Compute MI for Numerical Features"
      ],
      "metadata": {
        "id": "COul5aeKYBby"
      }
    },
    {
      "cell_type": "markdown",
      "source": [
        "Use mutual_info_classif (for classification) or mutual_info_regression (for regression)."
      ],
      "metadata": {
        "id": "9tT66EClYnjX"
      }
    },
    {
      "cell_type": "code",
      "source": [
        "from sklearn.feature_selection import mutual_info_classif, mutual_info_regression\n",
        "\n",
        "# Identify numerical features\n",
        "num_cols = data.select_dtypes(include=['int64', 'float64']).columns\n",
        "num_cols = num_cols.drop(TARGET_VAR, errors='ignore')  # Remove target variable\n",
        "\n",
        "# Compute MI for numerical features\n",
        "mi_scores_num = mutual_info_classif(data[num_cols], data[TARGET_VAR], random_state=42)  # Use mutual_info_regression if target is numerical\n",
        "\n",
        "# Store results in a DataFrame\n",
        "mi_df_num = pd.DataFrame({'Feature': num_cols, 'MI Score': mi_scores_num})\n",
        "mi_df_num = mi_df_num.sort_values(by=\"MI Score\", ascending=False)\n",
        "\n",
        "# Display top numerical features\n",
        "print(mi_df_num.head(20))\n"
      ],
      "metadata": {
        "colab": {
          "base_uri": "https://localhost:8080/"
        },
        "id": "wFkuWCnTX2l2",
        "outputId": "e18eb32c-ebd0-4038-8b8b-bca4f727eb13"
      },
      "execution_count": 109,
      "outputs": [
        {
          "output_type": "stream",
          "name": "stdout",
          "text": [
            "       Feature  MI Score\n",
            "3   r5hspnit1y  0.404883\n",
            "49  r5doctim1y  0.026141\n",
            "59     r5nagi8  0.020946\n",
            "17      r5adla  0.020633\n",
            "55    r5mobila  0.020065\n",
            "48    r5adla_m  0.017490\n",
            "19  r5mobilsev  0.016726\n",
            "52    r5grossa  0.016239\n",
            "21    r5lgmusa  0.015730\n",
            "23   r5adltot6  0.014213\n",
            "60  r5lowermob  0.013922\n",
            "32    r5nagi10  0.013684\n",
            "31  r5uppermob  0.013102\n",
            "41     r5finea  0.012291\n",
            "47   r5adlfive  0.012173\n",
            "34  r5iadlfour  0.011077\n",
            "45    r5cesd_m  0.010780\n",
            "2      r5adlwa  0.010589\n",
            "50    r5adlwam  0.009090\n",
            "36     r5henum  0.007691\n"
          ]
        }
      ]
    },
    {
      "cell_type": "code",
      "source": [
        "\n",
        "# Store results in a DataFrame\n",
        "mi_df_num = pd.DataFrame({'Feature': num_cols, 'MI Score': mi_scores_num})\n",
        "mi_df_num = mi_df_num.sort_values(by=\"MI Score\", ascending=False)\n",
        "\n",
        "# Filter features with MI Score > 0.1\n",
        "selected_num_features = mi_df_num[mi_df_num[\"MI Score\"] > 0.1][\"Feature\"].tolist()\n",
        "\n",
        "# Create a new DataFrame with only selected numerical features\n",
        "X_num_selected = data[selected_num_features]\n",
        "\n",
        "print(f\"✅ Selected {len(selected_num_features)} numerical features from {len(num_cols)}\")\n",
        "print(selected_num_features)  # Show selected features"
      ],
      "metadata": {
        "colab": {
          "base_uri": "https://localhost:8080/"
        },
        "id": "Puim1a5TbFze",
        "outputId": "e79fe673-0431-42d1-d060-c2c544a0b8ff"
      },
      "execution_count": 110,
      "outputs": [
        {
          "output_type": "stream",
          "name": "stdout",
          "text": [
            "✅ Selected 1 numerical features from 61\n",
            "['r5hspnit1y']\n"
          ]
        }
      ]
    },
    {
      "cell_type": "markdown",
      "source": [
        "Combine MI Scores for Numerical and Categorical Features"
      ],
      "metadata": {
        "id": "_Nb_YhwjZOUg"
      }
    },
    {
      "cell_type": "code",
      "source": [
        "# Merge numerical and categorical MI results\n",
        "mi_df = pd.concat([mi_df_num, mi_df])\n",
        "\n",
        "# Sort by MI Score\n",
        "mi_df = mi_df.sort_values(by=\"MI Score\", ascending=False)\n",
        "\n",
        "# Display top features\n",
        "print(mi_df.head(30))\n"
      ],
      "metadata": {
        "colab": {
          "base_uri": "https://localhost:8080/"
        },
        "id": "2xfUitjVbi2q",
        "outputId": "6b48a938-3d29-4fda-c75b-57356939fa37"
      },
      "execution_count": 111,
      "outputs": [
        {
          "output_type": "stream",
          "name": "stdout",
          "text": [
            "         Feature  MI Score\n",
            "3     r5hspnit1y  0.404883\n",
            "131     rahhidnp  0.404851\n",
            "49    r5doctim1y  0.026141\n",
            "59       r5nagi8  0.020946\n",
            "17        r5adla  0.020633\n",
            "55      r5mobila  0.020065\n",
            "113     r5lbrf_m  0.019366\n",
            "48      r5adla_m  0.017490\n",
            "52   r5oophosf1y  0.017153\n",
            "19    r5mobilsev  0.016726\n",
            "155    r5adlaa_m  0.016676\n",
            "52      r5grossa  0.016239\n",
            "21      r5lgmusa  0.015730\n",
            "46       r5walks  0.015543\n",
            "11      r5walksa  0.015502\n",
            "168    r5grossaa  0.015303\n",
            "129       r5lift  0.015113\n",
            "71       r5lifta  0.015079\n",
            "27         r5jog  0.014534\n",
            "119       r5push  0.014470\n",
            "4     r5adltot6a  0.014459\n",
            "125      r5pusha  0.014410\n",
            "102   r5doctor1y  0.014225\n",
            "23     r5adltot6  0.014213\n",
            "206    r5mobilaa  0.014185\n",
            "105      r5adlaa  0.014081\n",
            "170  r5uppermoba  0.014041\n",
            "60    r5lowermob  0.013922\n",
            "34    r5adlfivea  0.013761\n",
            "32      r5nagi10  0.013684\n"
          ]
        }
      ]
    },
    {
      "cell_type": "markdown",
      "source": [
        "# Balance the dataset with SMOTE"
      ],
      "metadata": {
        "id": "ge88sDjGReOV"
      }
    },
    {
      "cell_type": "markdown",
      "source": [
        "## Prepare Data for SMOTE"
      ],
      "metadata": {
        "id": "xIkO1MIoREy0"
      }
    },
    {
      "cell_type": "code",
      "source": [
        "from imblearn.over_sampling import SMOTE\n",
        "from sklearn.model_selection import train_test_split"
      ],
      "metadata": {
        "id": "5aSvQQpdSATb"
      },
      "execution_count": 112,
      "outputs": []
    },
    {
      "cell_type": "code",
      "source": [
        "# Select the top 50 features from MI results\n",
        "top_50_features = mi_df.head(30)[\"Feature\"].tolist()\n",
        "\n",
        "# Keep only those features in X\n",
        "X = data[top_50_features]\n",
        "\n",
        "y = data[TARGET_VAR]  # Target variable\n",
        "\n",
        "# Check class distribution before balancing\n",
        "print(\"⚠ Class distribution before SMOTE:\")\n",
        "print(y.value_counts())\n",
        "\n",
        "# Split into Train/Test BEFORE applying SMOTE (to avoid data leakage)\n",
        "X_train, X_test, y_train, y_test = train_test_split(X, y, test_size=0.2, random_state=42, stratify=y)\n"
      ],
      "metadata": {
        "colab": {
          "base_uri": "https://localhost:8080/"
        },
        "id": "RvlgT-X0Q8kd",
        "outputId": "445cda27-5bc6-4be6-d48e-454e3d8534cd"
      },
      "execution_count": 113,
      "outputs": [
        {
          "output_type": "stream",
          "name": "stdout",
          "text": [
            "⚠ Class distribution before SMOTE:\n",
            "r5hosp1y\n",
            "0    13595\n",
            "1     2212\n",
            "Name: count, dtype: int64\n"
          ]
        }
      ]
    },
    {
      "cell_type": "code",
      "source": [],
      "metadata": {
        "id": "PjMB8ZztZStE"
      },
      "execution_count": 113,
      "outputs": []
    },
    {
      "cell_type": "markdown",
      "source": [
        "##  Apply SMOTE to Balance the Training Data"
      ],
      "metadata": {
        "id": "K-UsFp9XSyJ0"
      }
    },
    {
      "cell_type": "code",
      "source": [
        "from sklearn.model_selection import train_test_split\n",
        "\n",
        "X_train, X_test, y_train, y_test = train_test_split(\n",
        "    X, y, test_size=0.2, random_state=42, stratify=y\n",
        ")\n"
      ],
      "metadata": {
        "id": "bdoYibyVZVig"
      },
      "execution_count": 114,
      "outputs": []
    },
    {
      "source": [
        "# Initialize SMOTE\n",
        "smote = SMOTE(sampling_strategy='auto', random_state=42)\n",
        "\n",
        "# Identify categorical features in top_50_features\n",
        "categorical_features = X_train.select_dtypes(include=['object', 'category']).columns\n",
        "\n",
        "# Create a LabelEncoder for each categorical feature and handle unseen labels\n",
        "label_encoders = {}\n",
        "for feature in categorical_features:\n",
        "    label_encoders[feature] = LabelEncoder()\n",
        "\n",
        "    # Fit on combined unique values from train and test\n",
        "    all_values = pd.concat([X_train[feature], X_test[feature]]).unique()\n",
        "    label_encoders[feature].fit(all_values)\n",
        "\n",
        "    X_train[feature] = label_encoders[feature].transform(X_train[feature])\n",
        "    X_test[feature] = label_encoders[feature].transform(X_test[feature])\n",
        "\n",
        "\n",
        "# Apply SMOTE only on the training set\n",
        "X_train_balanced, y_train_balanced = smote.fit_resample(X_train, y_train)\n",
        "\n",
        "# Check class distribution after balancing\n",
        "print(\"✅ Class distribution AFTER SMOTE:\")\n",
        "print(y_train_balanced.value_counts())"
      ],
      "cell_type": "code",
      "metadata": {
        "colab": {
          "base_uri": "https://localhost:8080/"
        },
        "id": "ytHJ86znUm6G",
        "outputId": "7d7bb49f-aad8-4f15-a595-fbd1f51a4376"
      },
      "execution_count": 115,
      "outputs": [
        {
          "output_type": "stream",
          "name": "stdout",
          "text": [
            "✅ Class distribution AFTER SMOTE:\n",
            "r5hosp1y\n",
            "0    10875\n",
            "1    10875\n",
            "Name: count, dtype: int64\n"
          ]
        }
      ]
    },
    {
      "cell_type": "markdown",
      "source": [
        "# Train Logistic Regression on the Balanced Data"
      ],
      "metadata": {
        "id": "omSWo3jgVRj9"
      }
    },
    {
      "cell_type": "code",
      "source": [
        "from sklearn.linear_model import LogisticRegression\n",
        "from sklearn.metrics import accuracy_score, f1_score, roc_auc_score, classification_report\n",
        "\n",
        "# Initialize and train Logistic Regression\n",
        "model = LogisticRegression(max_iter=500, solver='saga', random_state=42)  # 'saga' handles large datasets better\n",
        "model.fit(X_train_balanced, y_train_balanced)\n",
        "\n",
        "# Make predictions\n",
        "y_pred = model.predict(X_test)\n",
        "y_prob = model.predict_proba(X_test)[:, 1]  # Probability for ROC-AUC\n",
        "\n",
        "# Evaluate the model\n",
        "accuracy = accuracy_score(y_test, y_pred)\n",
        "f1 = f1_score(y_test, y_pred)\n",
        "roc_auc = roc_auc_score(y_test, y_prob)\n",
        "\n",
        "print(f\"📊 Accuracy: {accuracy:.4f}\")\n",
        "print(f\"📊 F1-Score: {f1:.4f}\")\n",
        "print(f\"📊 ROC-AUC: {roc_auc:.4f}\")\n",
        "print(\"\\n📄 Classification Report:\\n\", classification_report(y_test, y_pred))\n"
      ],
      "metadata": {
        "colab": {
          "base_uri": "https://localhost:8080/"
        },
        "id": "UKyPqE1AVRcQ",
        "outputId": "0baba981-bda9-4545-9594-925e6b82047c"
      },
      "execution_count": 127,
      "outputs": [
        {
          "output_type": "stream",
          "name": "stdout",
          "text": [
            "📊 Accuracy: 0.7192\n",
            "📊 F1-Score: 0.4380\n",
            "📊 ROC-AUC: 0.8326\n",
            "\n",
            "📄 Classification Report:\n",
            "               precision    recall  f1-score   support\n",
            "\n",
            "           0       0.95      0.71      0.81      2720\n",
            "           1       0.30      0.78      0.44       442\n",
            "\n",
            "    accuracy                           0.72      3162\n",
            "   macro avg       0.63      0.75      0.63      3162\n",
            "weighted avg       0.86      0.72      0.76      3162\n",
            "\n"
          ]
        },
        {
          "output_type": "stream",
          "name": "stderr",
          "text": [
            "/usr/local/lib/python3.11/dist-packages/sklearn/linear_model/_sag.py:348: ConvergenceWarning: The max_iter was reached which means the coef_ did not converge\n",
            "  warnings.warn(\n"
          ]
        }
      ]
    },
    {
      "cell_type": "code",
      "source": [
        "# improvements\n",
        "# increase repetitions\n",
        "# balancing in logistic regression\n",
        "\n",
        "# Initialize and train Logistic Regression\n",
        "model = LogisticRegression(class_weight=\"balanced\", max_iter=1000, solver='saga', random_state=42)  # 'saga' handles large datasets better\n",
        "model.fit(X_train_balanced, y_train_balanced)\n",
        "\n",
        "# Make predictions\n",
        "y_pred = model.predict(X_test)\n",
        "y_prob = model.predict_proba(X_test)[:, 1]  # Probability for ROC-AUC\n",
        "\n",
        "# Evaluate the model\n",
        "accuracy = accuracy_score(y_test, y_pred)\n",
        "f1 = f1_score(y_test, y_pred)\n",
        "roc_auc = roc_auc_score(y_test, y_prob)\n",
        "\n",
        "print(f\"📊 Accuracy: {accuracy:.4f}\")\n",
        "print(f\"📊 F1-Score: {f1:.4f}\")\n",
        "print(f\"📊 ROC-AUC: {roc_auc:.4f}\")\n",
        "print(\"\\n📄 Classification Report:\\n\", classification_report(y_test, y_pred))"
      ],
      "metadata": {
        "colab": {
          "base_uri": "https://localhost:8080/"
        },
        "id": "tvNwg8TOWY_t",
        "outputId": "6770269a-1e86-45d4-a118-5a7c93321898"
      },
      "execution_count": 128,
      "outputs": [
        {
          "output_type": "stream",
          "name": "stdout",
          "text": [
            "📊 Accuracy: 0.7581\n",
            "📊 F1-Score: 0.4720\n",
            "📊 ROC-AUC: 0.8529\n",
            "\n",
            "📄 Classification Report:\n",
            "               precision    recall  f1-score   support\n",
            "\n",
            "           0       0.95      0.76      0.84      2720\n",
            "           1       0.34      0.77      0.47       442\n",
            "\n",
            "    accuracy                           0.76      3162\n",
            "   macro avg       0.65      0.76      0.66      3162\n",
            "weighted avg       0.87      0.76      0.79      3162\n",
            "\n"
          ]
        },
        {
          "output_type": "stream",
          "name": "stderr",
          "text": [
            "/usr/local/lib/python3.11/dist-packages/sklearn/linear_model/_sag.py:348: ConvergenceWarning: The max_iter was reached which means the coef_ did not converge\n",
            "  warnings.warn(\n"
          ]
        }
      ]
    },
    {
      "cell_type": "markdown",
      "source": [
        "# Train Random Forest"
      ],
      "metadata": {
        "id": "K_k8ad-sXcSa"
      }
    },
    {
      "cell_type": "code",
      "source": [
        "from sklearn.ensemble import RandomForestClassifier\n",
        "from sklearn.metrics import accuracy_score, f1_score, roc_auc_score, classification_report\n",
        "\n",
        "# Define Random Forest model\n",
        "#rf_model = RandomForestClassifier(n_estimators=200, class_weight=\"balanced\", random_state=42)\n",
        "rf_model = RandomForestClassifier(\n",
        "    n_estimators=100,\n",
        "    max_depth=10,\n",
        "    min_samples_split=5,\n",
        "    class_weight=\"balanced\",\n",
        "    random_state=42\n",
        ")\n",
        "\n",
        "# Train the model\n",
        "rf_model.fit(X_train_balanced, y_train_balanced)\n",
        "\n",
        "# Make predictions\n",
        "y_pred_rf = rf_model.predict(X_test)\n",
        "y_prob_rf = rf_model.predict_proba(X_test)[:, 1]  # Probabilities for ROC-AUC\n",
        "\n",
        "# Evaluate the model\n",
        "accuracy_rf = accuracy_score(y_test, y_pred_rf)\n",
        "f1_rf = f1_score(y_test, y_pred_rf)\n",
        "roc_auc_rf = roc_auc_score(y_test, y_prob_rf)\n",
        "\n",
        "print(\"📊 Random Forest Results:\")\n",
        "print(f\"✅ Accuracy: {accuracy_rf:.4f}\")\n",
        "print(f\"✅ F1-Score: {f1_rf:.4f}\")\n",
        "print(f\"✅ ROC-AUC: {roc_auc_rf:.4f}\")\n",
        "print(\"\\n📄 Classification Report:\\n\", classification_report(y_test, y_pred_rf))\n"
      ],
      "metadata": {
        "colab": {
          "base_uri": "https://localhost:8080/"
        },
        "id": "sCOe5lv7XuO_",
        "outputId": "0903bd37-fa4d-4a4e-dfc9-c3665b4a6cea"
      },
      "execution_count": 118,
      "outputs": [
        {
          "output_type": "stream",
          "name": "stdout",
          "text": [
            "📊 Random Forest Results:\n",
            "✅ Accuracy: 1.0000\n",
            "✅ F1-Score: 1.0000\n",
            "✅ ROC-AUC: 1.0000\n",
            "\n",
            "📄 Classification Report:\n",
            "               precision    recall  f1-score   support\n",
            "\n",
            "           0       1.00      1.00      1.00      2720\n",
            "           1       1.00      1.00      1.00       442\n",
            "\n",
            "    accuracy                           1.00      3162\n",
            "   macro avg       1.00      1.00      1.00      3162\n",
            "weighted avg       1.00      1.00      1.00      3162\n",
            "\n"
          ]
        }
      ]
    },
    {
      "cell_type": "code",
      "source": [
        "print(set(X_train.index) & set(X_test.index))  # Should return an empty set\n"
      ],
      "metadata": {
        "colab": {
          "base_uri": "https://localhost:8080/"
        },
        "id": "tPOJ4O5KYsMj",
        "outputId": "907e6a77-5f13-4aca-bdc3-fa789ee0e5c5"
      },
      "execution_count": 119,
      "outputs": [
        {
          "output_type": "stream",
          "name": "stdout",
          "text": [
            "set()\n"
          ]
        }
      ]
    },
    {
      "cell_type": "code",
      "source": [
        "print(y_train_balanced.value_counts())  # Check if both classes are properly balanced"
      ],
      "metadata": {
        "colab": {
          "base_uri": "https://localhost:8080/"
        },
        "id": "8NsHcKBMYycj",
        "outputId": "5f17b354-8ac0-444d-b774-604491234947"
      },
      "execution_count": 120,
      "outputs": [
        {
          "output_type": "stream",
          "name": "stdout",
          "text": [
            "r5hosp1y\n",
            "0    10875\n",
            "1    10875\n",
            "Name: count, dtype: int64\n"
          ]
        }
      ]
    },
    {
      "cell_type": "markdown",
      "source": [
        "# Train XGBoost"
      ],
      "metadata": {
        "id": "6knHY57wX-xI"
      }
    },
    {
      "cell_type": "code",
      "source": [
        "from xgboost import XGBClassifier\n",
        "\n",
        "# Define XGBoost model\n",
        "xgb_model = XGBClassifier(n_estimators=100,\n",
        "                          scale_pos_weight=len(y_train_balanced[y_train_balanced == 0]) / len(y_train_balanced[y_train_balanced == 1]),\n",
        "                          random_state=42,\n",
        "                          max_depth=5,  # Reduce tree depth\n",
        "                          learning_rate=0.05,  # Slow down learning to avoid overfitting\n",
        "                          )\n",
        "\n",
        "# Train the model\n",
        "xgb_model.fit(X_train_balanced, y_train_balanced)\n",
        "\n",
        "# Make predictions\n",
        "y_pred_xgb = xgb_model.predict(X_test)\n",
        "y_prob_xgb = xgb_model.predict_proba(X_test)[:, 1]  # Probabilities for ROC-AUC\n",
        "\n",
        "# Evaluate the model\n",
        "accuracy_xgb = accuracy_score(y_test, y_pred_xgb)\n",
        "f1_xgb = f1_score(y_test, y_pred_xgb)\n",
        "roc_auc_xgb = roc_auc_score(y_test, y_prob_xgb)\n",
        "\n",
        "print(\"📊 XGBoost Results:\")\n",
        "print(f\"✅ Accuracy: {accuracy_xgb:.4f}\")\n",
        "print(f\"✅ F1-Score: {f1_xgb:.4f}\")\n",
        "print(f\"✅ ROC-AUC: {roc_auc_xgb:.4f}\")\n",
        "print(\"\\n📄 Classification Report:\\n\", classification_report(y_test, y_pred_xgb))\n"
      ],
      "metadata": {
        "colab": {
          "base_uri": "https://localhost:8080/"
        },
        "id": "PYZ3fwiIYGMI",
        "outputId": "6434e34c-cce1-4859-fd67-acde5e759d29"
      },
      "execution_count": 125,
      "outputs": [
        {
          "output_type": "stream",
          "name": "stdout",
          "text": [
            "📊 XGBoost Results:\n",
            "✅ Accuracy: 1.0000\n",
            "✅ F1-Score: 1.0000\n",
            "✅ ROC-AUC: 1.0000\n",
            "\n",
            "📄 Classification Report:\n",
            "               precision    recall  f1-score   support\n",
            "\n",
            "           0       1.00      1.00      1.00      2720\n",
            "           1       1.00      1.00      1.00       442\n",
            "\n",
            "    accuracy                           1.00      3162\n",
            "   macro avg       1.00      1.00      1.00      3162\n",
            "weighted avg       1.00      1.00      1.00      3162\n",
            "\n"
          ]
        }
      ]
    },
    {
      "cell_type": "markdown",
      "source": [
        "Data Leakage (Most Likely)"
      ],
      "metadata": {
        "id": "fvCsAgrqbrD6"
      }
    },
    {
      "cell_type": "code",
      "source": [
        "print(set(X_train.index) & set(X_test.index))  # Should return an empty set\n"
      ],
      "metadata": {
        "colab": {
          "base_uri": "https://localhost:8080/"
        },
        "id": "yXsWfoVIbqrz",
        "outputId": "d7c7a268-efca-4867-a603-5ee7d7a4e3bc"
      },
      "execution_count": 122,
      "outputs": [
        {
          "output_type": "stream",
          "name": "stdout",
          "text": [
            "set()\n"
          ]
        }
      ]
    },
    {
      "cell_type": "markdown",
      "source": [
        "SMOTE Created Too Easy-to-Classify Data"
      ],
      "metadata": {
        "id": "yCDZNmfQb4sT"
      }
    },
    {
      "cell_type": "code",
      "source": [
        "from imblearn.under_sampling import RandomUnderSampler\n",
        "rus = RandomUnderSampler(sampling_strategy=\"auto\", random_state=42)\n",
        "X_train_resampled, y_train_resampled = rus.fit_resample(X_train, y_train)\n"
      ],
      "metadata": {
        "id": "Oce8RGkNb3gD"
      },
      "execution_count": 123,
      "outputs": []
    },
    {
      "cell_type": "markdown",
      "source": [
        "## Fine-Tune XGBoost to Prevent Overfitting"
      ],
      "metadata": {
        "id": "_gBoqoSpc1lv"
      }
    },
    {
      "cell_type": "code",
      "source": [
        "from xgboost import XGBClassifier\n",
        "\n",
        "# Define a more controlled XGBoost model\n",
        "xgb_model = XGBClassifier(\n",
        "    n_estimators=100,         # Reduce number of trees\n",
        "    max_depth=5,              # Limit tree depth to prevent memorization\n",
        "    learning_rate=0.05,       # Slower learning rate for better generalization\n",
        "    gamma=5,                  # Higher gamma forces model to split only when necessary\n",
        "    min_child_weight=10,      # Prevents overfitting on small patterns\n",
        "    subsample=0.8,            # Uses 80% of data per tree to reduce memorization\n",
        "    colsample_bytree=0.8,     # Uses 80% of features per tree\n",
        "    scale_pos_weight=len(y_train_resampled[y_train_resampled == 0]) / len(y_train_resampled[y_train_resampled == 1]),\n",
        "    random_state=42\n",
        ")\n",
        "\n",
        "# Train the model\n",
        "xgb_model.fit(X_train_resampled, y_train_resampled)\n",
        "\n",
        "# Make predictions\n",
        "y_pred_xgb = xgb_model.predict(X_test)\n",
        "y_prob_xgb = xgb_model.predict_proba(X_test)[:, 1]  # Probability for ROC-AUC\n",
        "\n",
        "# Evaluate the model\n",
        "from sklearn.metrics import accuracy_score, f1_score, roc_auc_score, classification_report\n",
        "\n",
        "accuracy_xgb = accuracy_score(y_test, y_pred_xgb)\n",
        "f1_xgb = f1_score(y_test, y_pred_xgb)\n",
        "roc_auc_xgb = roc_auc_score(y_test, y_prob_xgb)\n",
        "\n",
        "print(\"📊 XGBoost Results After Tuning:\")\n",
        "print(f\"✅ Accuracy: {accuracy_xgb:.4f}\")\n",
        "print(f\"✅ F1-Score: {f1_xgb:.4f}\")\n",
        "print(f\"✅ ROC-AUC: {roc_auc_xgb:.4f}\")\n",
        "print(\"\\n📄 Classification Report:\\n\", classification_report(y_test, y_pred_xgb))\n"
      ],
      "metadata": {
        "colab": {
          "base_uri": "https://localhost:8080/"
        },
        "id": "AQfjpajpc6KL",
        "outputId": "a8e251d4-b4c9-4fe2-bf58-6bee82fff4ce"
      },
      "execution_count": 126,
      "outputs": [
        {
          "output_type": "stream",
          "name": "stdout",
          "text": [
            "📊 XGBoost Results After Tuning:\n",
            "✅ Accuracy: 1.0000\n",
            "✅ F1-Score: 1.0000\n",
            "✅ ROC-AUC: 1.0000\n",
            "\n",
            "📄 Classification Report:\n",
            "               precision    recall  f1-score   support\n",
            "\n",
            "           0       1.00      1.00      1.00      2720\n",
            "           1       1.00      1.00      1.00       442\n",
            "\n",
            "    accuracy                           1.00      3162\n",
            "   macro avg       1.00      1.00      1.00      3162\n",
            "weighted avg       1.00      1.00      1.00      3162\n",
            "\n"
          ]
        }
      ]
    }
  ],
  "metadata": {
    "kernelspec": {
      "display_name": "Python 3",
      "name": "python3"
    },
    "language_info": {
      "codemirror_mode": {
        "name": "ipython",
        "version": 3
      },
      "file_extension": ".py",
      "mimetype": "text/x-python",
      "name": "python",
      "nbconvert_exporter": "python",
      "pygments_lexer": "ipython3",
      "version": "3.12.8"
    },
    "colab": {
      "provenance": [],
      "gpuType": "T4",
      "collapsed_sections": [
        "HlURup-HcLAh",
        "cG7lfDlGexgs",
        "FyDX0_1ToEUZ"
      ],
      "include_colab_link": true
    },
    "accelerator": "GPU"
  },
  "nbformat": 4,
  "nbformat_minor": 0
}