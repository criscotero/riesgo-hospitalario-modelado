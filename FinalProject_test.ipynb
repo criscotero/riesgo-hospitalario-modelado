{
 "cells": [
  {
   "cell_type": "markdown",
   "metadata": {
    "id": "AwdcNHRg-dF0"
   },
   "source": [
    "# Final Project - Hospitalization Prediction for Elderly People"
   ]
  },
  {
   "cell_type": "code",
   "execution_count": 1,
   "metadata": {
    "colab": {
     "base_uri": "https://localhost:8080/"
    },
    "id": "mxve20X42VBm",
    "outputId": "e90687c3-8a3e-4837-d6f4-eb2ae43667d2"
   },
   "outputs": [],
   "source": [
    "from src import extract_data as data, process_data\n",
    "import pandas as pd\n"
   ]
  },
  {
   "cell_type": "markdown",
   "metadata": {},
   "source": [
    "# Data Extraction"
   ]
  },
  {
   "cell_type": "markdown",
   "metadata": {},
   "source": [
    "* *The Mexican Health and Aging Study* (**MHAS**) is a dataset of household surveys designed to collect information on the health, economic status, and quality of life of older adults.\n",
    "The survey was conducted over 5 time periods, technically known as **Waves**. \n",
    "In addition, there are three study subjects: the respondent (r), the spouse (s), and the household (H). For this study, only the first two were used.\n"
   ]
  },
  {
   "cell_type": "markdown",
   "metadata": {},
   "source": [
    "c"
   ]
  },
  {
   "cell_type": "markdown",
   "metadata": {},
   "source": [
    "To access the data for this project, you only need to execute the code below. This will download H_MHAS_c2.sas7bdat file inside the `dataset` folder:"
   ]
  },
  {
   "cell_type": "code",
   "execution_count": null,
   "metadata": {},
   "outputs": [],
   "source": [
    "# Run only once, or if you need to rebuild the original data\n",
    "df = data.download_dataset()"
   ]
  },
  {
   "cell_type": "code",
   "execution_count": null,
   "metadata": {},
   "outputs": [],
   "source": [
    "print('We have',df.shape[0],'subjects')\n",
    "print('We have',df.shape[1],'features')\n",
    "print('Head', df.head())"
   ]
  },
  {
   "cell_type": "markdown",
   "metadata": {},
   "source": [
    "If you have download the dataset, you only need to execute the code below. \n",
    "\n"
   ]
  },
  {
   "cell_type": "code",
   "execution_count": 2,
   "metadata": {},
   "outputs": [
    {
     "name": "stdout",
     "output_type": "stream",
     "text": [
      "Warning: column count mismatch (97 + 279 != 5241)\n",
      "\n"
     ]
    }
   ],
   "source": [
    "df = data.load_dataset()"
   ]
  },
  {
   "cell_type": "markdown",
   "metadata": {},
   "source": [
    "### Features\n",
    "The dataset `H_MHAS_c2.sas7bdat` has 26839 rows and 5241 features.\n",
    "\n",
    "All features are divided into the following sections.\n",
    "\n",
    "- SECTION A: DEMOGRAPHICS, IDENTIFIERS, AND WEIGHTS \n",
    "- SECTION B: HEALTH \n",
    "- SECTION C: HEALTH CARE UTILIZATION AND INSURANCE \n",
    "- SECTION D: COGNITION  \n",
    "- SECTION E: FINANCIAL AND HOUSING WEALTH \n",
    "- SECTION F: INCOME\n",
    "- SECTION G: FAMILY STRUCTURE \n",
    "- SECTION H: EMPLOYMENT HISTORY \n",
    "- SECTION I: RETIREMENT \n",
    "- SECTION J: PENSION \n",
    "- SECTION K: PHYSICAL MEASURES\n",
    "- SECTION L: ASSISTANCE AND CAREGIVING\n",
    "- SECTION M: STRESS \n",
    "- SECTION O: END OF LIFE PLANNING\n",
    "- SECTION Q: PSYCHOSOCIAL"
   ]
  },
  {
   "cell_type": "markdown",
   "metadata": {},
   "source": [
    "# Categorical and Numerical Features "
   ]
  },
  {
   "cell_type": "code",
   "execution_count": 3,
   "metadata": {},
   "outputs": [
    {
     "name": "stdout",
     "output_type": "stream",
     "text": [
      "Categorical features 7\n",
      "Numerical features 5234\n"
     ]
    }
   ],
   "source": [
    "categorical_vars = df.select_dtypes(include=['object']).columns\n",
    "numerical_vars = df.select_dtypes(include=['float64']).columns\n",
    "\n",
    "print('Categorical features ' + str(len(categorical_vars)))\n",
    "print('Numerical features ' + str(len(numerical_vars)) )\n"
   ]
  },
  {
   "cell_type": "markdown",
   "metadata": {},
   "source": [
    "# We will save the features with the possible values."
   ]
  },
  {
   "cell_type": "code",
   "execution_count": null,
   "metadata": {},
   "outputs": [],
   "source": [
    "# Load your dataset into a DataFrame\n",
    "# Example: df = pd.read_csv('your_dataset.csv')\n",
    "\n",
    "# Select only categorical columns\n",
    "categorical_cols = df.select_dtypes(include=['object']).columns\n",
    "\n",
    "# Open the file for writing\n",
    "with open('features_with_values.txt', 'w') as f:\n",
    "    for column in categorical_cols:\n",
    "        # Get the unique values of the column\n",
    "        unique_values = df[column].unique()\n",
    "        # Limit the number of values shown for readability\n",
    "        unique_values_preview = unique_values[:10]  # Show up to 10 values\n",
    "        # Write the feature name and unique values to the file\n",
    "        f.write(f\"{column}: {list(unique_values_preview)}\\n\\n\")\n",
    "\n",
    "print(\"Categorical features with their unique values have been saved to 'features_with_values.txt'\")"
   ]
  },
  {
   "cell_type": "markdown",
   "metadata": {},
   "source": [
    "# Extract Data"
   ]
  },
  {
   "cell_type": "markdown",
   "metadata": {},
   "source": [
    "* In this study, we will focus on the Respondent and the Spouse. \n",
    "* The Householder variable will be removed from data\n",
    "* We have chosen to analyze the last three waves, as they are considered more relevant to this   study due to the common features they share, as well as the presence of new and valuable information\n",
    "* To ensure consistency and a normalized dataset, we will merge the variables related to the Respondent and Spouse"
   ]
  },
  {
   "cell_type": "code",
   "execution_count": null,
   "metadata": {},
   "outputs": [],
   "source": [
    "normalized_df = process_data.unified_data(df)"
   ]
  },
  {
   "cell_type": "code",
   "execution_count": null,
   "metadata": {},
   "outputs": [
    {
     "name": "stdout",
     "output_type": "stream",
     "text": [
      "Categorical features 0\n",
      "Numerical features 563\n"
     ]
    }
   ],
   "source": [
    "categorical_vars_clean = normalized_df.select_dtypes(include=['object']).columns\n",
    "numerical_vars_clean = normalized_df.select_dtypes(include=['float64']).columns\n",
    "\n",
    "print('Categorical features ' + str(len(categorical_vars_clean)))\n",
    "print('Numerical features ' + str(len(numerical_vars_clean)) )"
   ]
  },
  {
   "cell_type": "code",
   "execution_count": null,
   "metadata": {},
   "outputs": [],
   "source": [
    "# Display all column names as a list\n",
    "with open('features_normalized_values.txt', 'w') as f:\n",
    "    for column in df.columns:\n",
    "        # Get the unique values of the column\n",
    "        unique_values = df[column].unique()\n",
    "        # Limit the number of values shown for readability\n",
    "        unique_values_preview = unique_values[:10]  # Show up to 10 values\n",
    "        # Write the feature name and unique values to the file\n",
    "        f.write(f\"{column}: {list(unique_values_preview)}\\n\\n\")"
   ]
  },
  {
   "cell_type": "markdown",
   "metadata": {
    "id": "37puETfgRzzg"
   },
   "source": [
    "# Data Preprocessing"
   ]
  },
  {
   "cell_type": "code",
   "execution_count": null,
   "metadata": {
    "id": "N-qiINBQSK2g"
   },
   "outputs": [],
   "source": [
    "import numpy as np\n",
    "import matplotlib.pyplot as plt\n",
    "import pandas as pd"
   ]
  },
  {
   "cell_type": "code",
   "execution_count": null,
   "metadata": {
    "id": "Wc5LLfBi4tM_"
   },
   "outputs": [],
   "source": [
    "X = df.iloc[:, :-1].values\n",
    "y = df.iloc[:, -1].values\n"
   ]
  },
  {
   "cell_type": "code",
   "execution_count": null,
   "metadata": {
    "colab": {
     "base_uri": "https://localhost:8080/"
    },
    "id": "SrqVq9iz44nA",
    "outputId": "7eba6e5b-9ebd-4adc-ff04-25d83b8e91c7"
   },
   "outputs": [],
   "source": [
    "print(X)\n"
   ]
  },
  {
   "cell_type": "code",
   "execution_count": null,
   "metadata": {
    "colab": {
     "base_uri": "https://localhost:8080/"
    },
    "id": "0rM2hK1k45Ra",
    "outputId": "9cd230b2-fb74-4b5d-e63e-0431dae83ba9"
   },
   "outputs": [],
   "source": [
    "print(y)"
   ]
  },
  {
   "cell_type": "code",
   "execution_count": null,
   "metadata": {
    "colab": {
     "base_uri": "https://localhost:8080/"
    },
    "id": "Htn8h46b7vAX",
    "outputId": "8cbf7717-9bd7-49b7-f6e9-88eb9dff3df1"
   },
   "outputs": [],
   "source": [
    "columns_list = list(df.columns)\n",
    "print(columns_list)\n",
    "\n",
    "num_columns = len(df.columns)\n",
    "print(f\"The dataset contains {num_columns} columns.\")"
   ]
  },
  {
   "cell_type": "code",
   "execution_count": null,
   "metadata": {
    "colab": {
     "base_uri": "https://localhost:8080/"
    },
    "id": "ZM7C_xcW4-ul",
    "outputId": "555c0ee1-2b7a-4bbe-c0f4-58b36633e6eb"
   },
   "outputs": [],
   "source": [
    "import pandas as pd\n",
    "import matplotlib.pyplot as plt\n",
    "import seaborn as sns\n",
    "\n",
    "\n",
    "# Basic Information\n",
    "print(\"Basic Info:\")\n",
    "print(df.info())\n",
    "print(\"\\n\")\n",
    "\n",
    "print(\"Summary Statistics:\")\n",
    "print(df.describe(include='all'))\n",
    "print(\"\\n\")\n",
    "\n",
    "# Check for missing values\n",
    "print(\"Missing Values:\")\n",
    "print(df.isnull().sum())\n",
    "print(\"\\n\")\n",
    "\n",
    "# Check for duplicate rows\n",
    "print(\"Duplicate Rows:\")\n",
    "print(df.duplicated().sum())\n",
    "print(\"\\n\")\n",
    "\n",
    "\n"
   ]
  },
  {
   "cell_type": "code",
   "execution_count": null,
   "metadata": {
    "id": "gTaWJboJ7gyR"
   },
   "outputs": [],
   "source": [
    "\n",
    "target_column = 'your_target_column'\n",
    "if target_column in df.columns:\n",
    "    plt.figure(figsize=(8, 4))\n",
    "    sns.countplot(x=target_column, data=df)\n",
    "    plt.title(f'Target Column Distribution: {target_column}')\n",
    "    plt.show()"
   ]
  }
 ],
 "metadata": {
  "colab": {
   "provenance": []
  },
  "kernelspec": {
   "display_name": "venv",
   "language": "python",
   "name": "python3"
  },
  "language_info": {
   "codemirror_mode": {
    "name": "ipython",
    "version": 3
   },
   "file_extension": ".py",
   "mimetype": "text/x-python",
   "name": "python",
   "nbconvert_exporter": "python",
   "pygments_lexer": "ipython3",
   "version": "3.8.18"
  }
 },
 "nbformat": 4,
 "nbformat_minor": 0
}
