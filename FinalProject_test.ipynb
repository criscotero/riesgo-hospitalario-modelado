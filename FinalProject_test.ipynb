{
 "cells": [
  {
   "cell_type": "markdown",
   "metadata": {
    "id": "AwdcNHRg-dF0"
   },
   "source": [
    "# Final Project - Hospitalization Prediction for Elderly People"
   ]
  },
  {
   "cell_type": "code",
   "execution_count": 1,
   "metadata": {
    "colab": {
     "base_uri": "https://localhost:8080/"
    },
    "id": "mxve20X42VBm",
    "outputId": "e90687c3-8a3e-4837-d6f4-eb2ae43667d2"
   },
   "outputs": [],
   "source": [
    "from src import config, data\n"
   ]
  },
  {
   "cell_type": "markdown",
   "metadata": {},
   "source": [
    "# Data Extraction"
   ]
  },
  {
   "cell_type": "markdown",
   "metadata": {},
   "source": [
    "* *The Mexican Health and Aging Study* (**MHAS**) is a dataset of household surveys designed to collect information on the health, economic status, and quality of life of older adults.\n",
    "The survey was conducted over 5 time periods, technically known as **Waves**. \n",
    "In addition, there are three study subjects: the respondent (r), the spouse (s), and the household (H). For this study, only the first two were used.\n"
   ]
  },
  {
   "cell_type": "markdown",
   "metadata": {},
   "source": [
    "# Load data"
   ]
  },
  {
   "cell_type": "markdown",
   "metadata": {},
   "source": [
    "To access the data for this project, you only need to execute the code below. This will download H_MHAS_c2.sas7bdat file inside the `dataset` folder:"
   ]
  },
  {
   "cell_type": "code",
   "execution_count": null,
   "metadata": {},
   "outputs": [
    {
     "name": "stdout",
     "output_type": "stream",
     "text": [
      "Warning: column count mismatch (97 + 279 != 5241)\n",
      "\n"
     ]
    }
   ],
   "source": [
    "# Run only once, or if you need to rebuild the original data\n",
    "df = data.download_dataset()"
   ]
  },
  {
   "cell_type": "code",
   "execution_count": 4,
   "metadata": {},
   "outputs": [
    {
     "name": "stdout",
     "output_type": "stream",
     "text": [
      "We have 26839 subjects\n",
      "We have 5241 features\n",
      "Head    codent01  codent03  ps3  ent2    np  unhhidnp rahhidnp  tipent_01  \\\n",
      "0       1.0       1.0  1.0   1.0  10.0     110.0   b'110'       12.0   \n",
      "1       2.0       2.0  2.0   2.0  20.0     120.0   b'120'       11.0   \n",
      "2       1.0       1.0  1.0   1.0  10.0     210.0   b'210'       11.0   \n",
      "3       2.0       2.0  2.0   2.0  20.0     220.0   b'220'       12.0   \n",
      "4       1.0       1.0  1.0   1.0  10.0     310.0   b'310'       11.0   \n",
      "\n",
      "   tipent_03  tipent_12  ...  s4satlife_m  s5satlife_m  r3satlifez  \\\n",
      "0       12.0        1.0  ...          NaN          NaN    1.510731   \n",
      "1       11.0        1.0  ...          NaN          NaN    1.510731   \n",
      "2       22.0        1.0  ...          NaN          NaN   -0.397267   \n",
      "3       11.0        3.0  ...          1.0          NaN         NaN   \n",
      "4       11.0        1.0  ...          1.0          1.0   -0.397267   \n",
      "\n",
      "   r4satlifez  r5satlifez  s3satlifez  s4satlifez  s5satlifez  r2cantril  \\\n",
      "0         NaN         NaN    1.510731         NaN         NaN        1.0   \n",
      "1   -0.387025   -0.393398    1.510731         NaN         NaN        NaN   \n",
      "2   -0.387025   -0.393398         NaN         NaN         NaN        NaN   \n",
      "3         NaN         NaN   -0.397267   -0.387025         NaN        5.0   \n",
      "4   -0.387025   -0.393398   -0.397267   -0.387025   -0.393398        1.0   \n",
      "\n",
      "  s2cantril  \n",
      "0       NaN  \n",
      "1       1.0  \n",
      "2       5.0  \n",
      "3       NaN  \n",
      "4       NaN  \n",
      "\n",
      "[5 rows x 5241 columns]\n"
     ]
    }
   ],
   "source": [
    "print('We have',df.shape[0],'subjects')\n",
    "print('We have',df.shape[1],'features')\n",
    "print('Head', df.head())"
   ]
  },
  {
   "cell_type": "markdown",
   "metadata": {},
   "source": [
    "If you have download the dataset, you only need to execute the code below. \n",
    "\n"
   ]
  },
  {
   "cell_type": "code",
   "execution_count": 3,
   "metadata": {},
   "outputs": [
    {
     "name": "stdout",
     "output_type": "stream",
     "text": [
      "Warning: column count mismatch (97 + 279 != 5241)\n",
      "\n"
     ]
    }
   ],
   "source": [
    "df = data.load_dataset()"
   ]
  },
  {
   "cell_type": "markdown",
   "metadata": {},
   "source": [
    "### Features\n",
    "The dataset `H_MHAS_c2.sas7bdat` has 26839 rows and 5241 features.\n",
    "\n",
    "All features are divided into the following sections.\n",
    "\n",
    "- SECTION A: DEMOGRAPHICS, IDENTIFIERS, AND WEIGHTS \n",
    "- SECTION B: HEALTH \n",
    "- SECTION C: HEALTH CARE UTILIZATION AND INSURANCE \n",
    "- SECTION D: COGNITION  \n",
    "- SECTION E: FINANCIAL AND HOUSING WEALTH \n",
    "- SECTION F: INCOME\n",
    "- SECTION G: FAMILY STRUCTURE \n",
    "- SECTION H: EMPLOYMENT HISTORY \n",
    "- SECTION I: RETIREMENT \n",
    "- SECTION J: PENSION \n",
    "- SECTION K: PHYSICAL MEASURES\n",
    "- SECTION L: ASSISTANCE AND CAREGIVING\n",
    "- SECTION M: STRESS \n",
    "- SECTION O: END OF LIFE PLANNING\n",
    "- SECTION Q: PSYCHOSOCIAL"
   ]
  },
  {
   "cell_type": "markdown",
   "metadata": {},
   "source": [
    "# Categorical and Numerical Features "
   ]
  },
  {
   "cell_type": "code",
   "execution_count": null,
   "metadata": {},
   "outputs": [
    {
     "name": "stdout",
     "output_type": "stream",
     "text": [
      "We have 7 categorical features in our dataset\n",
      "We have 5234 numerical features in our dataset\n",
      "We need to check if we can convert the following to numerical: \n",
      "Index(['rahhidnp', 'h1hhidc', 'h2hhidc', 'h3hhidc', 'h4hhidc', 'h5hhidc',\n",
      "       'acthog'],\n",
      "      dtype='object')\n"
     ]
    }
   ],
   "source": [
    "categorical_vars = df.select_dtypes(include=['object']).columns\n",
    "numerical_vars = df.select_dtypes(include=['float64']).columns\n",
    "\n",
    "print('We have ' + str(len(categorical_vars)) + ' categorical features in our dataset')\n",
    "print('We have ' + str(len(numerical_vars)) + ' numerical features in our dataset')\n"
   ]
  },
  {
   "cell_type": "markdown",
   "metadata": {
    "id": "37puETfgRzzg"
   },
   "source": [
    "# Data Preprocessing"
   ]
  },
  {
   "cell_type": "code",
   "execution_count": null,
   "metadata": {
    "id": "N-qiINBQSK2g"
   },
   "outputs": [],
   "source": [
    "import numpy as np\n",
    "import matplotlib.pyplot as plt\n",
    "import pandas as pd"
   ]
  },
  {
   "cell_type": "code",
   "execution_count": null,
   "metadata": {
    "id": "Wc5LLfBi4tM_"
   },
   "outputs": [],
   "source": [
    "X = df.iloc[:, :-1].values\n",
    "y = df.iloc[:, -1].values\n"
   ]
  },
  {
   "cell_type": "code",
   "execution_count": null,
   "metadata": {
    "colab": {
     "base_uri": "https://localhost:8080/"
    },
    "id": "SrqVq9iz44nA",
    "outputId": "7eba6e5b-9ebd-4adc-ff04-25d83b8e91c7"
   },
   "outputs": [],
   "source": [
    "print(X)\n"
   ]
  },
  {
   "cell_type": "code",
   "execution_count": null,
   "metadata": {
    "colab": {
     "base_uri": "https://localhost:8080/"
    },
    "id": "0rM2hK1k45Ra",
    "outputId": "9cd230b2-fb74-4b5d-e63e-0431dae83ba9"
   },
   "outputs": [],
   "source": [
    "print(y)"
   ]
  },
  {
   "cell_type": "code",
   "execution_count": null,
   "metadata": {
    "colab": {
     "base_uri": "https://localhost:8080/"
    },
    "id": "Htn8h46b7vAX",
    "outputId": "8cbf7717-9bd7-49b7-f6e9-88eb9dff3df1"
   },
   "outputs": [],
   "source": [
    "columns_list = list(df.columns)\n",
    "print(columns_list)\n",
    "\n",
    "num_columns = len(df.columns)\n",
    "print(f\"The dataset contains {num_columns} columns.\")"
   ]
  },
  {
   "cell_type": "code",
   "execution_count": null,
   "metadata": {
    "colab": {
     "base_uri": "https://localhost:8080/"
    },
    "id": "ZM7C_xcW4-ul",
    "outputId": "555c0ee1-2b7a-4bbe-c0f4-58b36633e6eb"
   },
   "outputs": [],
   "source": [
    "import pandas as pd\n",
    "import matplotlib.pyplot as plt\n",
    "import seaborn as sns\n",
    "\n",
    "\n",
    "# Basic Information\n",
    "print(\"Basic Info:\")\n",
    "print(df.info())\n",
    "print(\"\\n\")\n",
    "\n",
    "print(\"Summary Statistics:\")\n",
    "print(df.describe(include='all'))\n",
    "print(\"\\n\")\n",
    "\n",
    "# Check for missing values\n",
    "print(\"Missing Values:\")\n",
    "print(df.isnull().sum())\n",
    "print(\"\\n\")\n",
    "\n",
    "# Check for duplicate rows\n",
    "print(\"Duplicate Rows:\")\n",
    "print(df.duplicated().sum())\n",
    "print(\"\\n\")\n",
    "\n",
    "\n"
   ]
  },
  {
   "cell_type": "code",
   "execution_count": null,
   "metadata": {
    "id": "gTaWJboJ7gyR"
   },
   "outputs": [],
   "source": [
    "\n",
    "target_column = 'your_target_column'\n",
    "if target_column in df.columns:\n",
    "    plt.figure(figsize=(8, 4))\n",
    "    sns.countplot(x=target_column, data=df)\n",
    "    plt.title(f'Target Column Distribution: {target_column}')\n",
    "    plt.show()"
   ]
  }
 ],
 "metadata": {
  "colab": {
   "provenance": []
  },
  "kernelspec": {
   "display_name": "venv",
   "language": "python",
   "name": "python3"
  },
  "language_info": {
   "codemirror_mode": {
    "name": "ipython",
    "version": 3
   },
   "file_extension": ".py",
   "mimetype": "text/x-python",
   "name": "python",
   "nbconvert_exporter": "python",
   "pygments_lexer": "ipython3",
   "version": "3.8.18"
  }
 },
 "nbformat": 4,
 "nbformat_minor": 0
}
